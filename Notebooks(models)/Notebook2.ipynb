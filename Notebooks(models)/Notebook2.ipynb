{
 "cells": [
  {
   "cell_type": "code",
   "execution_count": 19,
   "metadata": {},
   "outputs": [],
   "source": [
    "import numpy as np \n",
    "import pandas as pd \n",
    "import seaborn as sns\n",
    "import matplotlib.pyplot as plt\n",
    "import category_encoders as ce   \n",
    "from sklearn.preprocessing import LabelEncoder\n",
    "from sklearn.metrics import classification_report,confusion_matrix\n"
   ]
  },
  {
   "cell_type": "code",
   "execution_count": 20,
   "metadata": {},
   "outputs": [
    {
     "data": {
      "text/html": [
       "<div>\n",
       "<style scoped>\n",
       "    .dataframe tbody tr th:only-of-type {\n",
       "        vertical-align: middle;\n",
       "    }\n",
       "\n",
       "    .dataframe tbody tr th {\n",
       "        vertical-align: top;\n",
       "    }\n",
       "\n",
       "    .dataframe thead th {\n",
       "        text-align: right;\n",
       "    }\n",
       "</style>\n",
       "<table border=\"1\" class=\"dataframe\">\n",
       "  <thead>\n",
       "    <tr style=\"text-align: right;\">\n",
       "      <th></th>\n",
       "      <th>Safety_Score</th>\n",
       "      <th>days</th>\n",
       "      <th>complaints</th>\n",
       "      <th>Control_Metric</th>\n",
       "      <th>turbulence</th>\n",
       "      <th>temp</th>\n",
       "      <th>code</th>\n",
       "      <th>Max_Elevation</th>\n",
       "      <th>Violations</th>\n",
       "      <th>weather</th>\n",
       "      <th>id</th>\n",
       "    </tr>\n",
       "  </thead>\n",
       "  <tbody>\n",
       "    <tr>\n",
       "      <td>0</td>\n",
       "      <td>19.497717</td>\n",
       "      <td>16</td>\n",
       "      <td>6</td>\n",
       "      <td>72.151322</td>\n",
       "      <td>0.388959</td>\n",
       "      <td>78.32</td>\n",
       "      <td>4</td>\n",
       "      <td>37949.724386</td>\n",
       "      <td>2</td>\n",
       "      <td>0.069692</td>\n",
       "      <td>1</td>\n",
       "    </tr>\n",
       "    <tr>\n",
       "      <td>1</td>\n",
       "      <td>58.173516</td>\n",
       "      <td>15</td>\n",
       "      <td>3</td>\n",
       "      <td>64.585232</td>\n",
       "      <td>0.250841</td>\n",
       "      <td>78.60</td>\n",
       "      <td>7</td>\n",
       "      <td>30194.805567</td>\n",
       "      <td>2</td>\n",
       "      <td>0.002777</td>\n",
       "      <td>10</td>\n",
       "    </tr>\n",
       "    <tr>\n",
       "      <td>2</td>\n",
       "      <td>33.287671</td>\n",
       "      <td>15</td>\n",
       "      <td>3</td>\n",
       "      <td>64.721969</td>\n",
       "      <td>0.336669</td>\n",
       "      <td>86.96</td>\n",
       "      <td>6</td>\n",
       "      <td>17572.925484</td>\n",
       "      <td>1</td>\n",
       "      <td>0.004316</td>\n",
       "      <td>14</td>\n",
       "    </tr>\n",
       "    <tr>\n",
       "      <td>3</td>\n",
       "      <td>3.287671</td>\n",
       "      <td>21</td>\n",
       "      <td>5</td>\n",
       "      <td>66.362808</td>\n",
       "      <td>0.421775</td>\n",
       "      <td>80.86</td>\n",
       "      <td>3</td>\n",
       "      <td>40209.186341</td>\n",
       "      <td>2</td>\n",
       "      <td>0.199990</td>\n",
       "      <td>17</td>\n",
       "    </tr>\n",
       "    <tr>\n",
       "      <td>4</td>\n",
       "      <td>10.867580</td>\n",
       "      <td>18</td>\n",
       "      <td>2</td>\n",
       "      <td>56.107566</td>\n",
       "      <td>0.313228</td>\n",
       "      <td>79.22</td>\n",
       "      <td>2</td>\n",
       "      <td>35495.525408</td>\n",
       "      <td>2</td>\n",
       "      <td>0.483696</td>\n",
       "      <td>21</td>\n",
       "    </tr>\n",
       "  </tbody>\n",
       "</table>\n",
       "</div>"
      ],
      "text/plain": [
       "   Safety_Score  days  complaints  Control_Metric  turbulence   temp  code  \\\n",
       "0     19.497717    16           6       72.151322    0.388959  78.32     4   \n",
       "1     58.173516    15           3       64.585232    0.250841  78.60     7   \n",
       "2     33.287671    15           3       64.721969    0.336669  86.96     6   \n",
       "3      3.287671    21           5       66.362808    0.421775  80.86     3   \n",
       "4     10.867580    18           2       56.107566    0.313228  79.22     2   \n",
       "\n",
       "   Max_Elevation  Violations   weather  id  \n",
       "0   37949.724386           2  0.069692   1  \n",
       "1   30194.805567           2  0.002777  10  \n",
       "2   17572.925484           1  0.004316  14  \n",
       "3   40209.186341           2  0.199990  17  \n",
       "4   35495.525408           2  0.483696  21  "
      ]
     },
     "execution_count": 20,
     "metadata": {},
     "output_type": "execute_result"
    }
   ],
   "source": [
    "import warnings\n",
    "warnings.filterwarnings('ignore')\n",
    "\n",
    "train_dir='E:/crash_prediction/train.csv'\n",
    "test_dir='E:/crash_prediction/test.csv'\n",
    "\n",
    "col=['Severity','Safety_Score','days','complaints','Control_Metric','turbulence','temp','code','Max_Elevation','Violations','weather','id']\n",
    "df = pd.read_csv(train_dir)\n",
    "df_test= pd.read_csv(test_dir)\n",
    "\n",
    "df.columns=col\n",
    "df_test.columns=col[1:]\n",
    "\n",
    "df_test.head(5)"
   ]
  },
  {
   "cell_type": "code",
   "execution_count": 21,
   "metadata": {},
   "outputs": [
    {
     "data": {
      "text/html": [
       "<div>\n",
       "<style scoped>\n",
       "    .dataframe tbody tr th:only-of-type {\n",
       "        vertical-align: middle;\n",
       "    }\n",
       "\n",
       "    .dataframe tbody tr th {\n",
       "        vertical-align: top;\n",
       "    }\n",
       "\n",
       "    .dataframe thead th {\n",
       "        text-align: right;\n",
       "    }\n",
       "</style>\n",
       "<table border=\"1\" class=\"dataframe\">\n",
       "  <thead>\n",
       "    <tr style=\"text-align: right;\">\n",
       "      <th></th>\n",
       "      <th>Severity</th>\n",
       "      <th>Safety_Score</th>\n",
       "      <th>days</th>\n",
       "      <th>complaints</th>\n",
       "      <th>Control_Metric</th>\n",
       "      <th>turbulence</th>\n",
       "      <th>temp</th>\n",
       "      <th>code</th>\n",
       "      <th>Max_Elevation</th>\n",
       "      <th>Violations</th>\n",
       "      <th>weather</th>\n",
       "    </tr>\n",
       "  </thead>\n",
       "  <tbody>\n",
       "    <tr>\n",
       "      <td>0</td>\n",
       "      <td>Minor_Damage_And_Injuries</td>\n",
       "      <td>49.223744</td>\n",
       "      <td>14</td>\n",
       "      <td>22</td>\n",
       "      <td>71.285324</td>\n",
       "      <td>0.272118</td>\n",
       "      <td>78.04</td>\n",
       "      <td>2</td>\n",
       "      <td>31335.476824</td>\n",
       "      <td>3</td>\n",
       "      <td>0.424352</td>\n",
       "    </tr>\n",
       "    <tr>\n",
       "      <td>1</td>\n",
       "      <td>Minor_Damage_And_Injuries</td>\n",
       "      <td>62.465753</td>\n",
       "      <td>10</td>\n",
       "      <td>27</td>\n",
       "      <td>72.288058</td>\n",
       "      <td>0.423939</td>\n",
       "      <td>84.54</td>\n",
       "      <td>2</td>\n",
       "      <td>26024.711057</td>\n",
       "      <td>2</td>\n",
       "      <td>0.352350</td>\n",
       "    </tr>\n",
       "    <tr>\n",
       "      <td>2</td>\n",
       "      <td>Significant_Damage_And_Fatalities</td>\n",
       "      <td>63.059361</td>\n",
       "      <td>13</td>\n",
       "      <td>16</td>\n",
       "      <td>66.362808</td>\n",
       "      <td>0.322604</td>\n",
       "      <td>78.86</td>\n",
       "      <td>7</td>\n",
       "      <td>39269.053927</td>\n",
       "      <td>3</td>\n",
       "      <td>0.003364</td>\n",
       "    </tr>\n",
       "    <tr>\n",
       "      <td>3</td>\n",
       "      <td>Significant_Damage_And_Serious_Injuries</td>\n",
       "      <td>48.082192</td>\n",
       "      <td>11</td>\n",
       "      <td>9</td>\n",
       "      <td>74.703737</td>\n",
       "      <td>0.337029</td>\n",
       "      <td>81.79</td>\n",
       "      <td>3</td>\n",
       "      <td>42771.499200</td>\n",
       "      <td>1</td>\n",
       "      <td>0.211728</td>\n",
       "    </tr>\n",
       "    <tr>\n",
       "      <td>4</td>\n",
       "      <td>Significant_Damage_And_Fatalities</td>\n",
       "      <td>26.484018</td>\n",
       "      <td>13</td>\n",
       "      <td>25</td>\n",
       "      <td>47.948952</td>\n",
       "      <td>0.541140</td>\n",
       "      <td>77.16</td>\n",
       "      <td>3</td>\n",
       "      <td>35509.228515</td>\n",
       "      <td>2</td>\n",
       "      <td>0.176883</td>\n",
       "    </tr>\n",
       "    <tr>\n",
       "      <td>5</td>\n",
       "      <td>Minor_Damage_And_Injuries</td>\n",
       "      <td>43.333333</td>\n",
       "      <td>15</td>\n",
       "      <td>0</td>\n",
       "      <td>73.336372</td>\n",
       "      <td>0.432954</td>\n",
       "      <td>78.63</td>\n",
       "      <td>2</td>\n",
       "      <td>29288.448105</td>\n",
       "      <td>1</td>\n",
       "      <td>0.394505</td>\n",
       "    </tr>\n",
       "    <tr>\n",
       "      <td>6</td>\n",
       "      <td>Highly_Fatal_And_Damaging</td>\n",
       "      <td>22.009132</td>\n",
       "      <td>15</td>\n",
       "      <td>10</td>\n",
       "      <td>62.853236</td>\n",
       "      <td>0.314671</td>\n",
       "      <td>88.04</td>\n",
       "      <td>4</td>\n",
       "      <td>32342.109345</td>\n",
       "      <td>0</td>\n",
       "      <td>0.058872</td>\n",
       "    </tr>\n",
       "  </tbody>\n",
       "</table>\n",
       "</div>"
      ],
      "text/plain": [
       "                                  Severity  Safety_Score  days  complaints  \\\n",
       "0                Minor_Damage_And_Injuries     49.223744    14          22   \n",
       "1                Minor_Damage_And_Injuries     62.465753    10          27   \n",
       "2        Significant_Damage_And_Fatalities     63.059361    13          16   \n",
       "3  Significant_Damage_And_Serious_Injuries     48.082192    11           9   \n",
       "4        Significant_Damage_And_Fatalities     26.484018    13          25   \n",
       "5                Minor_Damage_And_Injuries     43.333333    15           0   \n",
       "6                Highly_Fatal_And_Damaging     22.009132    15          10   \n",
       "\n",
       "   Control_Metric  turbulence   temp  code  Max_Elevation  Violations  \\\n",
       "0       71.285324    0.272118  78.04     2   31335.476824           3   \n",
       "1       72.288058    0.423939  84.54     2   26024.711057           2   \n",
       "2       66.362808    0.322604  78.86     7   39269.053927           3   \n",
       "3       74.703737    0.337029  81.79     3   42771.499200           1   \n",
       "4       47.948952    0.541140  77.16     3   35509.228515           2   \n",
       "5       73.336372    0.432954  78.63     2   29288.448105           1   \n",
       "6       62.853236    0.314671  88.04     4   32342.109345           0   \n",
       "\n",
       "    weather  \n",
       "0  0.424352  \n",
       "1  0.352350  \n",
       "2  0.003364  \n",
       "3  0.211728  \n",
       "4  0.176883  \n",
       "5  0.394505  \n",
       "6  0.058872  "
      ]
     },
     "execution_count": 21,
     "metadata": {},
     "output_type": "execute_result"
    }
   ],
   "source": [
    "train = df.drop( ['id'] ,axis=1)\n",
    "test = df_test.drop( ['id'] ,axis=1)\n",
    "\n",
    "train.head(7)"
   ]
  },
  {
   "cell_type": "code",
   "execution_count": 22,
   "metadata": {},
   "outputs": [
    {
     "name": "stdout",
     "output_type": "stream",
     "text": [
      "<class 'pandas.core.frame.DataFrame'>\n",
      "RangeIndex: 10000 entries, 0 to 9999\n",
      "Data columns (total 11 columns):\n",
      "Severity          10000 non-null object\n",
      "Safety_Score      10000 non-null float64\n",
      "days              10000 non-null int64\n",
      "complaints        10000 non-null int64\n",
      "Control_Metric    10000 non-null float64\n",
      "turbulence        10000 non-null float64\n",
      "temp              10000 non-null float64\n",
      "code              10000 non-null int64\n",
      "Max_Elevation     10000 non-null float64\n",
      "Violations        10000 non-null int64\n",
      "weather           10000 non-null float64\n",
      "dtypes: float64(6), int64(4), object(1)\n",
      "memory usage: 859.5+ KB\n"
     ]
    }
   ],
   "source": [
    "train.info()"
   ]
  },
  {
   "cell_type": "code",
   "execution_count": 23,
   "metadata": {},
   "outputs": [
    {
     "data": {
      "text/plain": [
       "<matplotlib.axes._subplots.AxesSubplot at 0x1f87fe2b208>"
      ]
     },
     "execution_count": 23,
     "metadata": {},
     "output_type": "execute_result"
    },
    {
     "data": {
      "image/png": "[encoded data removed]",
      "text/plain": [
       "<Figure size 432x288 with 2 Axes>"
      ]
     },
     "metadata": {
      "needs_background": "light"
     },
     "output_type": "display_data"
    }
   ],
   "source": [
    "import seaborn as sns\n",
    "import matplotlib.pyplot as plt\n",
    "\n",
    "import seaborn as sns\n",
    "\n",
    "corr=train.corr()\n",
    "sns.heatmap(corr, xticklabels=corr.columns.values, yticklabels=corr.columns.values)"
   ]
  },
  {
   "cell_type": "code",
   "execution_count": 24,
   "metadata": {},
   "outputs": [
    {
     "data": {
      "image/png": "[encoded data removed]",
      "text/plain": [
       "<Figure size 432x288 with 1 Axes>"
      ]
     },
     "metadata": {
      "needs_background": "light"
     },
     "output_type": "display_data"
    }
   ],
   "source": [
    "sns.barplot(x='Safety_Score', y='Severity',data=train)\n",
    "train['Safety_Score']=(train['Safety_Score']-train['Safety_Score'].mean())/train['Safety_Score'].std()\n",
    "test['Safety_Score']=(test['Safety_Score']-test['Safety_Score'].mean())/test['Safety_Score'].std()"
   ]
  },
  {
   "cell_type": "code",
   "execution_count": 25,
   "metadata": {},
   "outputs": [
    {
     "data": {
      "image/png": "[encoded data removed]",
      "text/plain": [
       "<Figure size 432x288 with 1 Axes>"
      ]
     },
     "metadata": {
      "needs_background": "light"
     },
     "output_type": "display_data"
    }
   ],
   "source": [
    "sns.barplot(x='Control_Metric', y='Severity',data=train)\n",
    "train['Control_Metric']=(train['Control_Metric']-train['Control_Metric'].mean())/train['Control_Metric'].std()\n",
    "test['Control_Metric']=(test['Control_Metric']-test['Control_Metric'].mean())/test['Control_Metric'].std()"
   ]
  },
  {
   "cell_type": "code",
   "execution_count": 26,
   "metadata": {},
   "outputs": [
    {
     "data": {
      "image/png": "[encoded data removed]",
      "text/plain": [
       "<Figure size 432x288 with 1 Axes>"
      ]
     },
     "metadata": {
      "needs_background": "light"
     },
     "output_type": "display_data"
    }
   ],
   "source": [
    "sns.barplot(x='turbulence', y='Severity',data=train)\n",
    "train['turbulence']=(train['turbulence']-train['turbulence'].mean())/train['turbulence'].std()\n",
    "test['turbulence']=(test['turbulence']-test['turbulence'].mean())/test['turbulence'].std()"
   ]
  },
  {
   "cell_type": "code",
   "execution_count": 27,
   "metadata": {},
   "outputs": [
    {
     "data": {
      "image/png": "[encoded data removed]",
      "text/plain": [
       "<Figure size 432x288 with 1 Axes>"
      ]
     },
     "metadata": {
      "needs_background": "light"
     },
     "output_type": "display_data"
    }
   ],
   "source": [
    "sns.barplot(x='temp', y='Severity',data=train)\n",
    "train['temp']=(train['temp']-train['temp'].mean())/train['temp'].std()\n",
    "test['temp']=(test['temp']-test['temp'].mean())/test['temp'].std()"
   ]
  },
  {
   "cell_type": "code",
   "execution_count": 28,
   "metadata": {},
   "outputs": [
    {
     "data": {
      "image/png": "[encoded data removed]",
      "text/plain": [
       "<Figure size 432x288 with 1 Axes>"
      ]
     },
     "metadata": {
      "needs_background": "light"
     },
     "output_type": "display_data"
    }
   ],
   "source": [
    "sns.barplot(x='Max_Elevation', y='Severity',data=train)\n",
    "train['Max_Elevation']=(train['Max_Elevation']-train['Max_Elevation'].mean())/train['Max_Elevation'].std()\n",
    "test['Max_Elevation']=(test['Max_Elevation']-test['Max_Elevation'].mean())/test['Max_Elevation'].std()"
   ]
  },
  {
   "cell_type": "code",
   "execution_count": 29,
   "metadata": {},
   "outputs": [
    {
     "data": {
      "image/png": "[encoded data removed]",
      "text/plain": [
       "<Figure size 432x288 with 1 Axes>"
      ]
     },
     "metadata": {
      "needs_background": "light"
     },
     "output_type": "display_data"
    }
   ],
   "source": [
    "sns.barplot(x='weather', y='Severity',data=train)\n",
    "train['weather']=(train['weather']-train['weather'].mean())/train['weather'].std()\n",
    "test['weather']=(test['weather']-test['weather'].mean())/test['weather'].std()"
   ]
  },
  {
   "cell_type": "code",
   "execution_count": 30,
   "metadata": {},
   "outputs": [
    {
     "data": {
      "image/png": "[encoded data removed]",
      "text/plain": [
       "<Figure size 432x288 with 1 Axes>"
      ]
     },
     "metadata": {
      "needs_background": "light"
     },
     "output_type": "display_data"
    }
   ],
   "source": [
    "sns.barplot(x='days', y='Severity',data=train)\n",
    "train['days']=(train['days']-train['days'].mean())/train['days'].std()\n",
    "test['days']=(test['days']-test['days'].mean())/test['days'].std()"
   ]
  },
  {
   "cell_type": "code",
   "execution_count": 31,
   "metadata": {},
   "outputs": [
    {
     "data": {
      "image/png": "[encoded data removed]",
      "text/plain": [
       "<Figure size 432x288 with 1 Axes>"
      ]
     },
     "metadata": {
      "needs_background": "light"
     },
     "output_type": "display_data"
    }
   ],
   "source": [
    "sns.barplot(x='complaints', y='Severity',data=train)\n",
    "train['complaints']=(train['complaints']-train['complaints'].mean())/train['complaints'].std()\n",
    "test['complaints']=(test['complaints']-test['complaints'].mean())/test['complaints'].std()"
   ]
  },
  {
   "cell_type": "code",
   "execution_count": 32,
   "metadata": {},
   "outputs": [
    {
     "data": {
      "image/png": "[encoded data removed]",
      "text/plain": [
       "<Figure size 432x288 with 1 Axes>"
      ]
     },
     "metadata": {
      "needs_background": "light"
     },
     "output_type": "display_data"
    }
   ],
   "source": [
    "sns.barplot(x='code', y='Severity',data=train)\n",
    "train['code']=(train['code']-train['code'].mean())/train['code'].std()\n",
    "test['code']=(test['code']-test['code'].mean())/test['code'].std()"
   ]
  },
  {
   "cell_type": "code",
   "execution_count": 33,
   "metadata": {},
   "outputs": [
    {
     "data": {
      "image/png": "[encoded data removed]",
      "text/plain": [
       "<Figure size 432x288 with 1 Axes>"
      ]
     },
     "metadata": {
      "needs_background": "light"
     },
     "output_type": "display_data"
    }
   ],
   "source": [
    "sns.barplot(x='Violations', y='Severity',data=train)\n",
    "train['Violations']=(train['Violations']-train['Violations'].mean())/train['Violations'].std()\n",
    "test['Violations']=(test['Violations']-test['Violations'].mean())/test['Violations'].std()"
   ]
  },
  {
   "cell_type": "code",
   "execution_count": 34,
   "metadata": {},
   "outputs": [],
   "source": [
    "from sklearn.model_selection import train_test_split\n",
    "\n",
    "X = train.drop(['Severity'], axis = 1)\n",
    "Y = train['Severity']\n",
    "\n",
    "X_Train, X_Test, Y_Train, Y_Test = train_test_split(X, Y, test_size = 0.20, random_state = 10)"
   ]
  },
  {
   "cell_type": "markdown",
   "metadata": {},
   "source": [
    "##   Different models including regression and classification depending upon problem statement"
   ]
  },
  {
   "cell_type": "markdown",
   "metadata": {},
   "source": [
    "##  LIST OF LINEAR MODELS \n",
    "### LinearRegression for regrresion purpose"
   ]
  },
  {
   "cell_type": "code",
   "execution_count": 35,
   "metadata": {},
   "outputs": [],
   "source": [
    "# for regression\n",
    "\n",
    "#from sklearn.linear_model import LinearRegression \n",
    "#regressor = LinearRegression()\n",
    "#regressor.fit(X_Train, Y_Train)\n",
    "#predictions =regressor.predict(X_Test)\n",
    "#print(confusion_matrix(Y_Test,predictions))\n",
    "#print(classification_report(Y_Test,predictions))"
   ]
  },
  {
   "cell_type": "markdown",
   "metadata": {},
   "source": [
    "### RidgeClassifier/Regrresor and RidgeClassifierCV\n",
    "\n",
    "###### more info [click](https://scikit-learn.org/stable/modules/generated/sklearn.linear_model.RidgeClassifier.html#sklearn.linear_model.RidgeClassifier)"
   ]
  },
  {
   "cell_type": "code",
   "execution_count": 36,
   "metadata": {},
   "outputs": [
    {
     "name": "stdout",
     "output_type": "stream",
     "text": [
      "[[530  91  16   1]\n",
      " [ 36 353  36  65]\n",
      " [151  77  72  38]\n",
      " [254  88  45 147]]\n",
      "                                         precision    recall  f1-score   support\n",
      "\n",
      "              Highly_Fatal_And_Damaging       0.55      0.83      0.66       638\n",
      "              Minor_Damage_And_Injuries       0.58      0.72      0.64       490\n",
      "      Significant_Damage_And_Fatalities       0.43      0.21      0.28       338\n",
      "Significant_Damage_And_Serious_Injuries       0.59      0.28      0.37       534\n",
      "\n",
      "                               accuracy                           0.55      2000\n",
      "                              macro avg       0.53      0.51      0.49      2000\n",
      "                           weighted avg       0.54      0.55      0.52      2000\n",
      "\n"
     ]
    }
   ],
   "source": [
    "from sklearn.linear_model import RidgeClassifier\n",
    "Ridge_classifier = RidgeClassifier(alpha=10,solver='svd').fit(X_Train, Y_Train)\n",
    "predictions =Ridge_classifier.predict(X_Test)\n",
    "print(confusion_matrix(Y_Test,predictions))\n",
    "print(classification_report(Y_Test,predictions))"
   ]
  },
  {
   "cell_type": "code",
   "execution_count": 37,
   "metadata": {},
   "outputs": [
    {
     "name": "stdout",
     "output_type": "stream",
     "text": [
      "[[530  91  16   1]\n",
      " [ 36 353  36  65]\n",
      " [151  77  72  38]\n",
      " [254  88  45 147]]\n",
      "                                         precision    recall  f1-score   support\n",
      "\n",
      "              Highly_Fatal_And_Damaging       0.55      0.83      0.66       638\n",
      "              Minor_Damage_And_Injuries       0.58      0.72      0.64       490\n",
      "      Significant_Damage_And_Fatalities       0.43      0.21      0.28       338\n",
      "Significant_Damage_And_Serious_Injuries       0.59      0.28      0.37       534\n",
      "\n",
      "                               accuracy                           0.55      2000\n",
      "                              macro avg       0.53      0.51      0.49      2000\n",
      "                           weighted avg       0.54      0.55      0.52      2000\n",
      "\n"
     ]
    }
   ],
   "source": [
    "from sklearn.linear_model import RidgeClassifierCV\n",
    "Ridge_cv = RidgeClassifierCV(alphas=[1e-3, 1e-2, 1e-1, 1,10]).fit(X_Train, Y_Train)\n",
    "predictions1 =Ridge_cv.predict(X_Test)\n",
    "print(confusion_matrix(Y_Test,predictions1))\n",
    "print(classification_report(Y_Test,predictions1))"
   ]
  },
  {
   "cell_type": "markdown",
   "metadata": {},
   "source": [
    "### Lasso and LassoCV regression/classification\n",
    "\n",
    "###### more info [click](https://scikit-learn.org/stable/modules/generated/sklearn.linear_model.LassoCV.html#sklearn.linear_model.LassoCV)"
   ]
  },
  {
   "cell_type": "code",
   "execution_count": 38,
   "metadata": {},
   "outputs": [],
   "source": [
    "#from sklearn import linear_model\n",
    "#clf_lasso = linear_model.Lasso(alpha=0.1)\n",
    "#clf_lasso.fit(X_Train, Y_Train)\n",
    "#predictions2 =Ridge_cv.predict(X_Test)\n",
    "#print(confusion_matrix(Y_Test,predictions2))\n",
    "#print(classification_report(Y_Test,predictions2))"
   ]
  },
  {
   "cell_type": "code",
   "execution_count": 39,
   "metadata": {},
   "outputs": [],
   "source": [
    "#from sklearn.linear_model import LassoCV\n",
    "#lassocv = LassoCV(cv=5, random_state=0).fit(X_Train, Y_Train)\n",
    "#predictions3 =lassocv.predict(X_Test)\n",
    "#print(confusion_matrix(Y_Test,predictions3))\n",
    "#print(classification_report(Y_Test,predictions3))"
   ]
  },
  {
   "cell_type": "markdown",
   "metadata": {},
   "source": [
    "### Multi-task Lasso"
   ]
  },
  {
   "cell_type": "code",
   "execution_count": 40,
   "metadata": {},
   "outputs": [],
   "source": [
    "#from sklearn import linear_model\n",
    "#multi_lasso = linear_model.MultiTaskLasso(alpha=0.1)\n",
    "#multi_lasso.fit(X_Train, Y_Train)\n",
    "#predictions4 =lassocv.predict(X_Test)\n",
    "#print(confusion_matrix(Y_Test,predictions4))\n",
    "#print(classification_report(Y_Test,predictions4))"
   ]
  },
  {
   "cell_type": "markdown",
   "metadata": {},
   "source": [
    "### ElasticNet\n",
    "\n",
    "###### more info [click](https://scikit-learn.org/stable/modules/generated/sklearn.linear_model.ElasticNet.html#sklearn-linear-model-elasticnet)"
   ]
  },
  {
   "cell_type": "code",
   "execution_count": 41,
   "metadata": {},
   "outputs": [],
   "source": [
    "#from sklearn.linear_model import ElasticNet\n",
    "#elastic_net = ElasticNet(alpha=0.75,l1_ratio=0.5,random_state=0)\n",
    "#elastic_net.fit(X_Train, Y_Train)\n",
    "#predictions5 =elastic_net.predict(X_Test)\n",
    "#print(confusion_matrix(Y_Test,predictions5))\n",
    "#print(classification_report(Y_Test,predictions5))"
   ]
  },
  {
   "cell_type": "markdown",
   "metadata": {},
   "source": [
    "## More on Regression\n",
    "\n",
    "#### Linear models [click](https://scikit-learn.org/stable/modules/linear_model.html#)\n",
    "\n",
    "\n",
    "#### CV stands for cross validation estimators --- automatically selects best hyperparametre [click](https://scikit-learn.org/stable/glossary.html#term-cross-validation-estimator)"
   ]
  },
  {
   "cell_type": "markdown",
   "metadata": {},
   "source": [
    "### Logistic regression/ Logistic regressionCV\n",
    "\n",
    "###### more info  [click](https://scikit-learn.org/stable/modules/generated/sklearn.linear_model.LogisticRegressionCV.html#sklearn.linear_model.LogisticRegressionCV)"
   ]
  },
  {
   "cell_type": "code",
   "execution_count": 42,
   "metadata": {},
   "outputs": [
    {
     "name": "stdout",
     "output_type": "stream",
     "text": [
      "[[528  84  23   3]\n",
      " [  8 340  46  96]\n",
      " [149  69  77  43]\n",
      " [ 99  97  54 284]]\n",
      "                                         precision    recall  f1-score   support\n",
      "\n",
      "              Highly_Fatal_And_Damaging       0.67      0.83      0.74       638\n",
      "              Minor_Damage_And_Injuries       0.58      0.69      0.63       490\n",
      "      Significant_Damage_And_Fatalities       0.39      0.23      0.29       338\n",
      "Significant_Damage_And_Serious_Injuries       0.67      0.53      0.59       534\n",
      "\n",
      "                               accuracy                           0.61      2000\n",
      "                              macro avg       0.58      0.57      0.56      2000\n",
      "                           weighted avg       0.60      0.61      0.60      2000\n",
      "\n"
     ]
    }
   ],
   "source": [
    "from sklearn.linear_model import LogisticRegression\n",
    "trainedmodel = LogisticRegression(penalty='l2',C=1.0,solver='sag').fit(X_Train,Y_Train)\n",
    "predictions6 =trainedmodel.predict(X_Test)\n",
    "print(confusion_matrix(Y_Test,predictions6))\n",
    "print(classification_report(Y_Test,predictions6))"
   ]
  },
  {
   "cell_type": "code",
   "execution_count": 43,
   "metadata": {},
   "outputs": [
    {
     "name": "stdout",
     "output_type": "stream",
     "text": [
      "[[528  84  23   3]\n",
      " [  8 340  47  95]\n",
      " [149  69  77  43]\n",
      " [100  97  54 283]]\n",
      "                                         precision    recall  f1-score   support\n",
      "\n",
      "              Highly_Fatal_And_Damaging       0.67      0.83      0.74       638\n",
      "              Minor_Damage_And_Injuries       0.58      0.69      0.63       490\n",
      "      Significant_Damage_And_Fatalities       0.38      0.23      0.29       338\n",
      "Significant_Damage_And_Serious_Injuries       0.67      0.53      0.59       534\n",
      "\n",
      "                               accuracy                           0.61      2000\n",
      "                              macro avg       0.57      0.57      0.56      2000\n",
      "                           weighted avg       0.60      0.61      0.60      2000\n",
      "\n"
     ]
    }
   ],
   "source": [
    "from sklearn.linear_model import LogisticRegressionCV\n",
    "logisticRegressionCV = LogisticRegression().fit(X_Train,Y_Train)\n",
    "predictions7 =logisticRegressionCV.predict(X_Test)\n",
    "print(confusion_matrix(Y_Test,predictions7))\n",
    "print(classification_report(Y_Test,predictions7))"
   ]
  },
  {
   "cell_type": "markdown",
   "metadata": {},
   "source": [
    "### SGDClassifier\n",
    "\n",
    "###### more info [click](https://scikit-learn.org/stable/modules/generated/sklearn.linear_model.SGDClassifier.html#sklearn.linear_model.SGDClassifier)"
   ]
  },
  {
   "cell_type": "code",
   "execution_count": 44,
   "metadata": {},
   "outputs": [
    {
     "name": "stdout",
     "output_type": "stream",
     "text": [
      "[[526  83  27   2]\n",
      " [ 14 357  90  29]\n",
      " [151 108  75   4]\n",
      " [120 206 104 104]]\n",
      "                                         precision    recall  f1-score   support\n",
      "\n",
      "              Highly_Fatal_And_Damaging       0.65      0.82      0.73       638\n",
      "              Minor_Damage_And_Injuries       0.47      0.73      0.57       490\n",
      "      Significant_Damage_And_Fatalities       0.25      0.22      0.24       338\n",
      "Significant_Damage_And_Serious_Injuries       0.75      0.19      0.31       534\n",
      "\n",
      "                               accuracy                           0.53      2000\n",
      "                              macro avg       0.53      0.49      0.46      2000\n",
      "                           weighted avg       0.57      0.53      0.49      2000\n",
      "\n"
     ]
    }
   ],
   "source": [
    "from sklearn import linear_model\n",
    "sgd_classifier = linear_model.SGDClassifier(max_iter=1000, tol=1e-3)\n",
    "sgd_classifier.fit(X_Train,Y_Train)\n",
    "predictions8 =sgd_classifier.predict(X_Test)\n",
    "print(confusion_matrix(Y_Test,predictions8))\n",
    "print(classification_report(Y_Test,predictions8))"
   ]
  },
  {
   "cell_type": "markdown",
   "metadata": {},
   "source": [
    "### Perceptron\n",
    "\n",
    "###### more info [click](https://scikit-learn.org/stable/modules/generated/sklearn.linear_model.Perceptron.html#sklearn.linear_model.Perceptron)"
   ]
  },
  {
   "cell_type": "code",
   "execution_count": 45,
   "metadata": {},
   "outputs": [
    {
     "name": "stdout",
     "output_type": "stream",
     "text": [
      "[[526  83  27   2]\n",
      " [ 14 357  90  29]\n",
      " [151 108  75   4]\n",
      " [120 206 104 104]]\n",
      "                                         precision    recall  f1-score   support\n",
      "\n",
      "              Highly_Fatal_And_Damaging       0.65      0.82      0.73       638\n",
      "              Minor_Damage_And_Injuries       0.47      0.73      0.57       490\n",
      "      Significant_Damage_And_Fatalities       0.25      0.22      0.24       338\n",
      "Significant_Damage_And_Serious_Injuries       0.75      0.19      0.31       534\n",
      "\n",
      "                               accuracy                           0.53      2000\n",
      "                              macro avg       0.53      0.49      0.46      2000\n",
      "                           weighted avg       0.57      0.53      0.49      2000\n",
      "\n"
     ]
    }
   ],
   "source": [
    "from sklearn.linear_model import Perceptron\n",
    "percep= Perceptron(tol=1e-3, random_state=0)\n",
    "percep.fit(X_Train,Y_Train)\n",
    "predictions9 =sgd_classifier.predict(X_Test)\n",
    "print(confusion_matrix(Y_Test,predictions9))\n",
    "print(classification_report(Y_Test,predictions9))"
   ]
  },
  {
   "cell_type": "markdown",
   "metadata": {},
   "source": [
    "## SVM \n",
    "\n",
    "more info [click](https://scikit-learn.org/stable/modules/svm.html)"
   ]
  },
  {
   "cell_type": "markdown",
   "metadata": {},
   "source": [
    "### svm.SVC\n",
    "\n",
    "###### more info  [click] (https://scikit-learn.org/stable/modules/generated/sklearn.svm.SVC.html#sklearn.svm.SVC)"
   ]
  },
  {
   "cell_type": "code",
   "execution_count": 46,
   "metadata": {},
   "outputs": [
    {
     "name": "stdout",
     "output_type": "stream",
     "text": [
      "[[564  37  20  17]\n",
      " [ 18 448   8  16]\n",
      " [ 12   3 315   8]\n",
      " [ 22  20  12 480]]\n",
      "                                         precision    recall  f1-score   support\n",
      "\n",
      "              Highly_Fatal_And_Damaging       0.92      0.88      0.90       638\n",
      "              Minor_Damage_And_Injuries       0.88      0.91      0.90       490\n",
      "      Significant_Damage_And_Fatalities       0.89      0.93      0.91       338\n",
      "Significant_Damage_And_Serious_Injuries       0.92      0.90      0.91       534\n",
      "\n",
      "                               accuracy                           0.90      2000\n",
      "                              macro avg       0.90      0.91      0.90      2000\n",
      "                           weighted avg       0.90      0.90      0.90      2000\n",
      "\n"
     ]
    }
   ],
   "source": [
    "from sklearn.svm import SVC\n",
    "svc_clf = SVC(gamma='auto',C=10,kernel='rbf',decision_function_shape='ovo').fit(X_Train,Y_Train)\n",
    "predictions10 =svc_clf.predict(X_Test)\n",
    "print(confusion_matrix(Y_Test,predictions10))\n",
    "print(classification_report(Y_Test,predictions10))"
   ]
  },
  {
   "cell_type": "markdown",
   "metadata": {},
   "source": [
    "### svm.LinearSVC\n",
    "\n",
    "more info [click](https://scikit-learn.org/stable/modules/generated/sklearn.svm.LinearSVC.html#sklearn.svm.LinearSVC)"
   ]
  },
  {
   "cell_type": "code",
   "execution_count": 47,
   "metadata": {},
   "outputs": [
    {
     "name": "stdout",
     "output_type": "stream",
     "text": [
      "[[528  96  11   3]\n",
      " [  6 414  28  42]\n",
      " [151 133  49   5]\n",
      " [185 225  54  70]]\n",
      "                                         precision    recall  f1-score   support\n",
      "\n",
      "              Highly_Fatal_And_Damaging       0.61      0.83      0.70       638\n",
      "              Minor_Damage_And_Injuries       0.48      0.84      0.61       490\n",
      "      Significant_Damage_And_Fatalities       0.35      0.14      0.20       338\n",
      "Significant_Damage_And_Serious_Injuries       0.58      0.13      0.21       534\n",
      "\n",
      "                               accuracy                           0.53      2000\n",
      "                              macro avg       0.50      0.49      0.43      2000\n",
      "                           weighted avg       0.52      0.53      0.46      2000\n",
      "\n"
     ]
    }
   ],
   "source": [
    "from sklearn import svm\n",
    "trainedsvm = svm.LinearSVC(C=10,penalty='l2',multi_class='crammer_singer').fit(X_Train, Y_Train)\n",
    "predictionsvm = trainedsvm.predict(X_Test)\n",
    "print(confusion_matrix(Y_Test,predictionsvm))\n",
    "print(classification_report(Y_Test,predictionsvm))"
   ]
  },
  {
   "cell_type": "markdown",
   "metadata": {},
   "source": [
    "### smv.SVR\n",
    "for regression\n",
    "\n",
    "more info [click](https://scikit-learn.org/stable/modules/generated/sklearn.svm.SVR.html#sklearn.svm.SVR)"
   ]
  },
  {
   "cell_type": "code",
   "execution_count": 48,
   "metadata": {
    "scrolled": true
   },
   "outputs": [],
   "source": [
    "#from sklearn.svm import SVR\n",
    "#clf_svr = SVR(C=1.0, epsilon=0.2)\n",
    "#clf_svr.fit(X_Train, Y_Train)"
   ]
  },
  {
   "cell_type": "markdown",
   "metadata": {},
   "source": [
    "## KNN\n",
    "\n",
    "more info [click](https://scikit-learn.org/stable/modules/generated/sklearn.neighbors.KNeighborsClassifier.html#sklearn.neighbors.KNeighborsClassifier)"
   ]
  },
  {
   "cell_type": "code",
   "execution_count": 49,
   "metadata": {},
   "outputs": [
    {
     "name": "stdout",
     "output_type": "stream",
     "text": [
      "[[489  58  22  69]\n",
      " [ 57 344  26  63]\n",
      " [ 51  59 221   7]\n",
      " [ 87  66  13 368]]\n",
      "                                         precision    recall  f1-score   support\n",
      "\n",
      "              Highly_Fatal_And_Damaging       0.71      0.77      0.74       638\n",
      "              Minor_Damage_And_Injuries       0.65      0.70      0.68       490\n",
      "      Significant_Damage_And_Fatalities       0.78      0.65      0.71       338\n",
      "Significant_Damage_And_Serious_Injuries       0.73      0.69      0.71       534\n",
      "\n",
      "                               accuracy                           0.71      2000\n",
      "                              macro avg       0.72      0.70      0.71      2000\n",
      "                           weighted avg       0.71      0.71      0.71      2000\n",
      "\n"
     ]
    }
   ],
   "source": [
    "from sklearn.neighbors import KNeighborsClassifier\n",
    "knn = KNeighborsClassifier(n_neighbors = 4,algorithm='auto')\n",
    "knn.fit(X_Train, Y_Train)\n",
    "Y_pred = knn.predict(X_Test)\n",
    "print(confusion_matrix(Y_Test,Y_pred))\n",
    "print(classification_report(Y_Test,Y_pred))"
   ]
  },
  {
   "cell_type": "markdown",
   "metadata": {},
   "source": [
    "### radius neighbours classifier\n",
    "\n",
    "more info [click](https://scikit-learn.org/stable/modules/generated/sklearn.neighbors.RadiusNeighborsClassifier.html#sklearn.neighbors.RadiusNeighborsClassifier)\n",
    "\n"
   ]
  },
  {
   "cell_type": "markdown",
   "metadata": {},
   "source": [
    "## for regression purposes with similar approach\n",
    "\n",
    "[click](https://scikit-learn.org/stable/modules/neighbors.html#nearest-neighbors-regression)"
   ]
  },
  {
   "cell_type": "markdown",
   "metadata": {},
   "source": [
    "### GaussianProcessClassifier"
   ]
  },
  {
   "cell_type": "code",
   "execution_count": 50,
   "metadata": {},
   "outputs": [],
   "source": [
    "#from sklearn.gaussian_process import GaussianProcessClassifier\n",
    "#from sklearn.gaussian_process.kernels import RBF\n",
    "#kernel = 1.0 * RBF(1.0)\n",
    "#gpc = GaussianProcessClassifier(kernel=kernel,random_state=0).fit(X_Train, Y_Train)\n",
    "#prediction11 = gpc.predict(X_Test)\n",
    "#print(confusion_matrix(Y_Test,prediction11))\n",
    "#print(classification_report(Y_Test,prediction11))\n",
    "\n",
    "# EXPENSIVE OPERATION"
   ]
  },
  {
   "cell_type": "markdown",
   "metadata": {},
   "source": [
    "### GaussianNB"
   ]
  },
  {
   "cell_type": "code",
   "execution_count": 51,
   "metadata": {},
   "outputs": [
    {
     "name": "stdout",
     "output_type": "stream",
     "text": [
      "[[309  76  24 229]\n",
      " [ 78 234  32 146]\n",
      " [ 82  39  79 138]\n",
      " [107  51  55 321]]\n",
      "                                         precision    recall  f1-score   support\n",
      "\n",
      "              Highly_Fatal_And_Damaging       0.54      0.48      0.51       638\n",
      "              Minor_Damage_And_Injuries       0.58      0.48      0.53       490\n",
      "      Significant_Damage_And_Fatalities       0.42      0.23      0.30       338\n",
      "Significant_Damage_And_Serious_Injuries       0.38      0.60      0.47       534\n",
      "\n",
      "                               accuracy                           0.47      2000\n",
      "                              macro avg       0.48      0.45      0.45      2000\n",
      "                           weighted avg       0.49      0.47      0.47      2000\n",
      "\n"
     ]
    }
   ],
   "source": [
    "from sklearn.naive_bayes import GaussianNB\n",
    "trainednb = GaussianNB().fit(X_Train, Y_Train)\n",
    "predictionnb = trainednb.predict(X_Test)\n",
    "print(confusion_matrix(Y_Test,predictionnb))\n",
    "print(classification_report(Y_Test,predictionnb))"
   ]
  },
  {
   "cell_type": "markdown",
   "metadata": {},
   "source": [
    "## Different types of naive bayes\n",
    "\n",
    "[click](https://scikit-learn.org/stable/modules/naive_bayes.html)"
   ]
  },
  {
   "cell_type": "markdown",
   "metadata": {},
   "source": [
    "## DecisionTreeClassifier\n",
    "\n",
    "more info [click](https://scikit-learn.org/stable/modules/tree.html#tips-on-practical-use)"
   ]
  },
  {
   "cell_type": "code",
   "execution_count": 52,
   "metadata": {},
   "outputs": [
    {
     "name": "stdout",
     "output_type": "stream",
     "text": [
      "[[309  76  24 229]\n",
      " [ 78 234  32 146]\n",
      " [ 82  39  79 138]\n",
      " [107  51  55 321]]\n",
      "                                         precision    recall  f1-score   support\n",
      "\n",
      "              Highly_Fatal_And_Damaging       0.54      0.48      0.51       638\n",
      "              Minor_Damage_And_Injuries       0.58      0.48      0.53       490\n",
      "      Significant_Damage_And_Fatalities       0.42      0.23      0.30       338\n",
      "Significant_Damage_And_Serious_Injuries       0.38      0.60      0.47       534\n",
      "\n",
      "                               accuracy                           0.47      2000\n",
      "                              macro avg       0.48      0.45      0.45      2000\n",
      "                           weighted avg       0.49      0.47      0.47      2000\n",
      "\n"
     ]
    }
   ],
   "source": [
    "from sklearn.model_selection import cross_val_score\n",
    "from sklearn.tree import DecisionTreeClassifier\n",
    "DT_clf = DecisionTreeClassifier(random_state=10,max_features=10,max_depth=3)\n",
    "DT_clf.fit(X_Train, Y_Train)\n",
    "predictionDT = trainednb.predict(X_Test)\n",
    "print(confusion_matrix(Y_Test,predictionDT))\n",
    "print(classification_report(Y_Test,predictionDT))"
   ]
  },
  {
   "cell_type": "markdown",
   "metadata": {},
   "source": [
    "## Ensemble methods"
   ]
  },
  {
   "cell_type": "markdown",
   "metadata": {},
   "source": [
    "### GradientBoostingClassifier"
   ]
  },
  {
   "cell_type": "code",
   "execution_count": 53,
   "metadata": {},
   "outputs": [
    {
     "name": "stdout",
     "output_type": "stream",
     "text": [
      "Learning rate:  0.05\n",
      "Accuracy score (training): 0.908\n",
      "Accuracy score (validation): 0.880\n",
      "\n",
      "Learning rate:  0.1\n",
      "Accuracy score (training): 0.965\n",
      "Accuracy score (validation): 0.915\n",
      "\n",
      "Learning rate:  0.25\n",
      "Accuracy score (training): 0.999\n",
      "Accuracy score (validation): 0.946\n",
      "\n",
      "Learning rate:  0.5\n",
      "Accuracy score (training): 1.000\n",
      "Accuracy score (validation): 0.951\n",
      "\n",
      "Learning rate:  0.75\n",
      "Accuracy score (training): 0.991\n",
      "Accuracy score (validation): 0.929\n",
      "\n",
      "Learning rate:  1\n",
      "Accuracy score (training): 1.000\n",
      "Accuracy score (validation): 0.957\n",
      "\n"
     ]
    }
   ],
   "source": [
    "from sklearn.ensemble import GradientBoostingClassifier\n",
    "from sklearn.metrics import classification_report, confusion_matrix, roc_curve, auc\n",
    "learning_rates = [0.05, 0.1, 0.25, 0.5, 0.75, 1]\n",
    "for learning_rate in learning_rates:\n",
    "    gb = GradientBoostingClassifier(n_estimators=900, learning_rate = learning_rate, max_features=10, max_depth = 2, random_state = 10)\n",
    "    gb.fit(X_Train, Y_Train)\n",
    "    print(\"Learning rate: \", learning_rate)\n",
    "    print(\"Accuracy score (training): {0:.3f}\".format(gb.score(X_Train, Y_Train)))\n",
    "    print(\"Accuracy score (validation): {0:.3f}\".format(gb.score(X_Test, Y_Test)))\n",
    "    print()"
   ]
  },
  {
   "cell_type": "code",
   "execution_count": 54,
   "metadata": {},
   "outputs": [
    {
     "name": "stdout",
     "output_type": "stream",
     "text": [
      "Confusion Matrix:\n",
      "[[598  17  12  11]\n",
      " [  8 461  10  11]\n",
      " [  5   2 330   1]\n",
      " [ 12   9  11 502]]\n",
      "\n",
      "Classification Report\n",
      "                                         precision    recall  f1-score   support\n",
      "\n",
      "              Highly_Fatal_And_Damaging       0.96      0.94      0.95       638\n",
      "              Minor_Damage_And_Injuries       0.94      0.94      0.94       490\n",
      "      Significant_Damage_And_Fatalities       0.91      0.98      0.94       338\n",
      "Significant_Damage_And_Serious_Injuries       0.96      0.94      0.95       534\n",
      "\n",
      "                               accuracy                           0.95      2000\n",
      "                              macro avg       0.94      0.95      0.94      2000\n",
      "                           weighted avg       0.95      0.95      0.95      2000\n",
      "\n"
     ]
    }
   ],
   "source": [
    "gb = GradientBoostingClassifier(n_estimators=1100, learning_rate = 0.90, max_features=10, max_depth = 2, random_state = 10)\n",
    "gb.fit(X_Train, Y_Train)\n",
    "predictions = gb.predict(X_Test)\n",
    "\n",
    "print(\"Confusion Matrix:\")\n",
    "print(confusion_matrix(Y_Test, predictions))\n",
    "print()\n",
    "print(\"Classification Report\")\n",
    "print(classification_report(Y_Test, predictions))"
   ]
  },
  {
   "cell_type": "markdown",
   "metadata": {},
   "source": [
    "### BaggingClassifier"
   ]
  },
  {
   "cell_type": "code",
   "execution_count": 55,
   "metadata": {},
   "outputs": [
    {
     "name": "stdout",
     "output_type": "stream",
     "text": [
      "[[552  58  13  15]\n",
      " [ 36 395  20  39]\n",
      " [ 34  39 251  14]\n",
      " [ 48  31  13 442]]\n",
      "                                         precision    recall  f1-score   support\n",
      "\n",
      "              Highly_Fatal_And_Damaging       0.82      0.87      0.84       638\n",
      "              Minor_Damage_And_Injuries       0.76      0.81      0.78       490\n",
      "      Significant_Damage_And_Fatalities       0.85      0.74      0.79       338\n",
      "Significant_Damage_And_Serious_Injuries       0.87      0.83      0.85       534\n",
      "\n",
      "                               accuracy                           0.82      2000\n",
      "                              macro avg       0.82      0.81      0.82      2000\n",
      "                           weighted avg       0.82      0.82      0.82      2000\n",
      "\n"
     ]
    }
   ],
   "source": [
    "from sklearn.ensemble import BaggingClassifier\n",
    "from sklearn.neighbors import KNeighborsClassifier\n",
    "bagging = BaggingClassifier(KNeighborsClassifier(n_neighbors = 4,algorithm='auto'),max_samples=0.5, max_features=0.5,random_state=10).fit(X_Train, Y_Train)\n",
    "prediction_bag = bagging.predict(X_Test)\n",
    "print(confusion_matrix(Y_Test,prediction_bag))\n",
    "print(classification_report(Y_Test,prediction_bag))"
   ]
  },
  {
   "cell_type": "markdown",
   "metadata": {},
   "source": [
    "### RandomForestClassifier\n",
    "\n",
    "more info [click](https://scikit-learn.org/stable/modules/ensemble.html#random-forest-parameters)"
   ]
  },
  {
   "cell_type": "code",
   "execution_count": 56,
   "metadata": {},
   "outputs": [
    {
     "name": "stdout",
     "output_type": "stream",
     "text": [
      "[[606  13   9  10]\n",
      " [ 12 468   8   2]\n",
      " [  1  11 324   2]\n",
      " [ 13  32   1 488]]\n",
      "                                         precision    recall  f1-score   support\n",
      "\n",
      "              Highly_Fatal_And_Damaging       0.96      0.95      0.95       638\n",
      "              Minor_Damage_And_Injuries       0.89      0.96      0.92       490\n",
      "      Significant_Damage_And_Fatalities       0.95      0.96      0.95       338\n",
      "Significant_Damage_And_Serious_Injuries       0.97      0.91      0.94       534\n",
      "\n",
      "                               accuracy                           0.94      2000\n",
      "                              macro avg       0.94      0.94      0.94      2000\n",
      "                           weighted avg       0.94      0.94      0.94      2000\n",
      "\n"
     ]
    }
   ],
   "source": [
    "from sklearn.ensemble import RandomForestClassifier\n",
    "trainedforest = RandomForestClassifier(n_estimators=800,random_state=42,max_features=0.8,max_depth=10).fit(X_Train,Y_Train)\n",
    "predictionforest = trainedforest.predict(X_Test)\n",
    "print(confusion_matrix(Y_Test,predictionforest))\n",
    "print(classification_report(Y_Test,predictionforest))"
   ]
  },
  {
   "cell_type": "markdown",
   "metadata": {},
   "source": [
    "### ExtraTreesClassifier"
   ]
  },
  {
   "cell_type": "code",
   "execution_count": 57,
   "metadata": {},
   "outputs": [
    {
     "name": "stdout",
     "output_type": "stream",
     "text": [
      "[[606  13   9  10]\n",
      " [ 12 468   8   2]\n",
      " [  1  11 324   2]\n",
      " [ 13  32   1 488]]\n",
      "                                         precision    recall  f1-score   support\n",
      "\n",
      "              Highly_Fatal_And_Damaging       0.96      0.95      0.95       638\n",
      "              Minor_Damage_And_Injuries       0.89      0.96      0.92       490\n",
      "      Significant_Damage_And_Fatalities       0.95      0.96      0.95       338\n",
      "Significant_Damage_And_Serious_Injuries       0.97      0.91      0.94       534\n",
      "\n",
      "                               accuracy                           0.94      2000\n",
      "                              macro avg       0.94      0.94      0.94      2000\n",
      "                           weighted avg       0.94      0.94      0.94      2000\n",
      "\n"
     ]
    }
   ],
   "source": [
    "from sklearn.ensemble import ExtraTreesClassifier\n",
    "clf_extra_tree = ExtraTreesClassifier(n_estimators=900,random_state=42,max_features='sqrt')\n",
    "clf_extra_tree.fit(X_Train,Y_Train)\n",
    "predictionforest_extra = trainedforest.predict(X_Test)\n",
    "print(confusion_matrix(Y_Test,predictionforest_extra))\n",
    "print(classification_report(Y_Test,predictionforest_extra))"
   ]
  },
  {
   "cell_type": "markdown",
   "metadata": {},
   "source": [
    "###  ADa Boost"
   ]
  },
  {
   "cell_type": "code",
   "execution_count": 58,
   "metadata": {},
   "outputs": [
    {
     "name": "stdout",
     "output_type": "stream",
     "text": [
      "[[606  13   9  10]\n",
      " [ 12 468   8   2]\n",
      " [  1  11 324   2]\n",
      " [ 13  32   1 488]]\n",
      "                                         precision    recall  f1-score   support\n",
      "\n",
      "              Highly_Fatal_And_Damaging       0.96      0.95      0.95       638\n",
      "              Minor_Damage_And_Injuries       0.89      0.96      0.92       490\n",
      "      Significant_Damage_And_Fatalities       0.95      0.96      0.95       338\n",
      "Significant_Damage_And_Serious_Injuries       0.97      0.91      0.94       534\n",
      "\n",
      "                               accuracy                           0.94      2000\n",
      "                              macro avg       0.94      0.94      0.94      2000\n",
      "                           weighted avg       0.94      0.94      0.94      2000\n",
      "\n"
     ]
    }
   ],
   "source": [
    "from sklearn.ensemble import AdaBoostClassifier\n",
    "clf_ada = AdaBoostClassifier(n_estimators=700, random_state=0)\n",
    "clf_ada.fit(X_Train,Y_Train)\n",
    "prediction_ada = trainedforest.predict(X_Test)\n",
    "print(confusion_matrix(Y_Test,prediction_ada))\n",
    "print(classification_report(Y_Test,prediction_ada))"
   ]
  },
  {
   "cell_type": "markdown",
   "metadata": {},
   "source": [
    "### HistGradientBoostingClassifier\n",
    "\n",
    "more info [click](https://scikit-learn.org/stable/modules/generated/sklearn.ensemble.HistGradientBoostingClassifier.html#sklearn.ensemble.HistGradientBoostingClassifier)"
   ]
  },
  {
   "cell_type": "markdown",
   "metadata": {},
   "source": [
    "### Using the VotingClassifier with GridSearchCV\n",
    "[click](https://scikit-learn.org/stable/modules/ensemble.html#using-the-votingclassifier-with-gridsearchcv)"
   ]
  },
  {
   "cell_type": "markdown",
   "metadata": {},
   "source": [
    "### OneVsRestClassifier\n",
    "\n",
    "more info [click](https://scikit-learn.org/stable/modules/generated/sklearn.multiclass.OneVsRestClassifier.html#sklearn.multiclass.OneVsRestClassifier)"
   ]
  },
  {
   "cell_type": "code",
   "execution_count": 59,
   "metadata": {},
   "outputs": [
    {
     "name": "stdout",
     "output_type": "stream",
     "text": [
      "[[598  12  14  14]\n",
      " [  8 463  13   6]\n",
      " [  4   5 321   8]\n",
      " [  9   5  14 506]]\n",
      "                                         precision    recall  f1-score   support\n",
      "\n",
      "              Highly_Fatal_And_Damaging       0.97      0.94      0.95       638\n",
      "              Minor_Damage_And_Injuries       0.95      0.94      0.95       490\n",
      "      Significant_Damage_And_Fatalities       0.89      0.95      0.92       338\n",
      "Significant_Damage_And_Serious_Injuries       0.95      0.95      0.95       534\n",
      "\n",
      "                               accuracy                           0.94      2000\n",
      "                              macro avg       0.94      0.94      0.94      2000\n",
      "                           weighted avg       0.94      0.94      0.94      2000\n",
      "\n"
     ]
    }
   ],
   "source": [
    "from sklearn.multiclass import OneVsRestClassifier\n",
    "clf_ovr = OneVsRestClassifier(gb).fit(X_Train,Y_Train)\n",
    "prediction_ovr = clf_ovr.predict(X_Test)\n",
    "print(confusion_matrix(Y_Test,prediction_ovr))\n",
    "print(classification_report(Y_Test,prediction_ovr))"
   ]
  },
  {
   "cell_type": "markdown",
   "metadata": {},
   "source": [
    "### OneVsOneClassifier"
   ]
  },
  {
   "cell_type": "code",
   "execution_count": 60,
   "metadata": {},
   "outputs": [
    {
     "name": "stdout",
     "output_type": "stream",
     "text": [
      "[[610  15   9   4]\n",
      " [ 11 473   4   2]\n",
      " [  5   2 331   0]\n",
      " [ 16  10   2 506]]\n",
      "                                         precision    recall  f1-score   support\n",
      "\n",
      "              Highly_Fatal_And_Damaging       0.95      0.96      0.95       638\n",
      "              Minor_Damage_And_Injuries       0.95      0.97      0.96       490\n",
      "      Significant_Damage_And_Fatalities       0.96      0.98      0.97       338\n",
      "Significant_Damage_And_Serious_Injuries       0.99      0.95      0.97       534\n",
      "\n",
      "                               accuracy                           0.96      2000\n",
      "                              macro avg       0.96      0.96      0.96      2000\n",
      "                           weighted avg       0.96      0.96      0.96      2000\n",
      "\n"
     ]
    }
   ],
   "source": [
    "from sklearn.multiclass import OneVsOneClassifier\n",
    "clf_ovo = OneVsOneClassifier(gb).fit(X_Train,Y_Train)\n",
    "prediction_ovo = clf_ovo.predict(X_Test)\n",
    "print(confusion_matrix(Y_Test,prediction_ovo))\n",
    "print(classification_report(Y_Test,prediction_ovo))"
   ]
  },
  {
   "cell_type": "code",
   "execution_count": 61,
   "metadata": {},
   "outputs": [
    {
     "name": "stdout",
     "output_type": "stream",
     "text": [
      "[[620   9   9   0]\n",
      " [ 14 468   8   0]\n",
      " [  3   8 327   0]\n",
      " [521  12   1   0]]\n",
      "                                         precision    recall  f1-score   support\n",
      "\n",
      "              Highly_Fatal_And_Damaging       0.54      0.97      0.69       638\n",
      "              Minor_Damage_And_Injuries       0.94      0.96      0.95       490\n",
      "      Significant_Damage_And_Fatalities       0.95      0.97      0.96       338\n",
      "Significant_Damage_And_Serious_Injuries       0.00      0.00      0.00       534\n",
      "\n",
      "                               accuracy                           0.71      2000\n",
      "                              macro avg       0.61      0.72      0.65      2000\n",
      "                           weighted avg       0.56      0.71      0.61      2000\n",
      "\n"
     ]
    }
   ],
   "source": [
    "from sklearn.multiclass import OutputCodeClassifier\n",
    "clf_occ = OutputCodeClassifier(trainedforest).fit(X_Train,Y_Train)\n",
    "prediction_occ = clf_occ.predict(X_Test)\n",
    "print(confusion_matrix(Y_Test,prediction_occ))\n",
    "print(classification_report(Y_Test,prediction_occ))"
   ]
  },
  {
   "cell_type": "markdown",
   "metadata": {},
   "source": [
    "### isotonic regression\n",
    "\n",
    "[click](https://scikit-learn.org/stable/modules/generated/sklearn.isotonic.IsotonicRegression.html#sklearn.isotonic.IsotonicRegression)"
   ]
  },
  {
   "cell_type": "markdown",
   "metadata": {},
   "source": [
    "### MLPClassifier\n",
    "\n",
    "more info [click](https://scikit-learn.org/stable/modules/generated/sklearn.neural_network.MLPClassifier.html#sklearn.neural_network.MLPClassifier)"
   ]
  },
  {
   "cell_type": "code",
   "execution_count": 62,
   "metadata": {},
   "outputs": [
    {
     "name": "stdout",
     "output_type": "stream",
     "text": [
      "[[597  15  15  11]\n",
      " [ 13 468   4   5]\n",
      " [  6   5 326   1]\n",
      " [ 27  18   4 485]]\n",
      "                                         precision    recall  f1-score   support\n",
      "\n",
      "              Highly_Fatal_And_Damaging       0.93      0.94      0.93       638\n",
      "              Minor_Damage_And_Injuries       0.92      0.96      0.94       490\n",
      "      Significant_Damage_And_Fatalities       0.93      0.96      0.95       338\n",
      "Significant_Damage_And_Serious_Injuries       0.97      0.91      0.94       534\n",
      "\n",
      "                               accuracy                           0.94      2000\n",
      "                              macro avg       0.94      0.94      0.94      2000\n",
      "                           weighted avg       0.94      0.94      0.94      2000\n",
      "\n"
     ]
    }
   ],
   "source": [
    "from sklearn.neural_network import MLPClassifier\n",
    "clf_mlp = MLPClassifier(solver='sgd', alpha=1e-3,hidden_layer_sizes=(256, 128, 64 , 4), random_state=10)\n",
    "clf_mlp.fit(X_Train,Y_Train)\n",
    "prediction_mlp = clf_mlp.predict(X_Test)\n",
    "print(confusion_matrix(Y_Test,prediction_mlp))\n",
    "print(classification_report(Y_Test,prediction_mlp))"
   ]
  },
  {
   "cell_type": "markdown",
   "metadata": {},
   "source": [
    "### GridSearchCV\n",
    "\n",
    "more info [click](https://scikit-learn.org/stable/modules/grid_search.html#exhaustive-grid-search)"
   ]
  },
  {
   "cell_type": "code",
   "execution_count": null,
   "metadata": {},
   "outputs": [],
   "source": [
    "param_grid = [\n",
    "  {'C': [1, 10, 100, 1000], 'kernel': ['linear']},\n",
    "  {'C': [1, 10, 100, 1000], 'gamma': [0.001, 0.0001], 'kernel': ['rbf']},\n",
    " ]"
   ]
  },
  {
   "cell_type": "markdown",
   "metadata": {},
   "source": [
    "### LinearDiscriminantAnalysis"
   ]
  },
  {
   "cell_type": "code",
   "execution_count": 65,
   "metadata": {},
   "outputs": [
    {
     "name": "stdout",
     "output_type": "stream",
     "text": [
      "[[528  81  25   4]\n",
      " [  7 338  47  98]\n",
      " [149  69  99  21]\n",
      " [ 62  70  54 348]]\n",
      "                                         precision    recall  f1-score   support\n",
      "\n",
      "              Highly_Fatal_And_Damaging       0.71      0.83      0.76       638\n",
      "              Minor_Damage_And_Injuries       0.61      0.69      0.65       490\n",
      "      Significant_Damage_And_Fatalities       0.44      0.29      0.35       338\n",
      "Significant_Damage_And_Serious_Injuries       0.74      0.65      0.69       534\n",
      "\n",
      "                               accuracy                           0.66      2000\n",
      "                              macro avg       0.62      0.62      0.61      2000\n",
      "                           weighted avg       0.65      0.66      0.65      2000\n",
      "\n"
     ]
    }
   ],
   "source": [
    "from sklearn.discriminant_analysis import LinearDiscriminantAnalysis\n",
    "trainedlda = LinearDiscriminantAnalysis(solver='lsqr',shrinkage='auto').fit(X_Train, Y_Train)\n",
    "predictionlda = trainedlda.predict(X_Test)\n",
    "print(confusion_matrix(Y_Test,predictionlda))\n",
    "print(classification_report(Y_Test,predictionlda))"
   ]
  },
  {
   "cell_type": "markdown",
   "metadata": {},
   "source": [
    "## XGBOOST + hyperparametre searching"
   ]
  },
  {
   "cell_type": "code",
   "execution_count": 124,
   "metadata": {},
   "outputs": [],
   "source": [
    "import xgboost\n",
    "classifier2=xgboost.XGBClassifier()"
   ]
  },
  {
   "cell_type": "code",
   "execution_count": 125,
   "metadata": {
    "scrolled": true
   },
   "outputs": [
    {
     "name": "stdout",
     "output_type": "stream",
     "text": [
      "[[530  87  11  10]\n",
      " [ 19 413  29  29]\n",
      " [ 11  22 281  24]\n",
      " [ 15  56   4 459]]\n",
      "                                         precision    recall  f1-score   support\n",
      "\n",
      "              Highly_Fatal_And_Damaging       0.92      0.83      0.87       638\n",
      "              Minor_Damage_And_Injuries       0.71      0.84      0.77       490\n",
      "      Significant_Damage_And_Fatalities       0.86      0.83      0.85       338\n",
      "Significant_Damage_And_Serious_Injuries       0.88      0.86      0.87       534\n",
      "\n",
      "                               accuracy                           0.84      2000\n",
      "                              macro avg       0.85      0.84      0.84      2000\n",
      "                           weighted avg       0.85      0.84      0.84      2000\n",
      "\n"
     ]
    }
   ],
   "source": [
    "classifier2.fit(X_Train, Y_Train)\n",
    "prediction_xg0 = classifier2.predict(X_Test)\n",
    "print(confusion_matrix(Y_Test,prediction_xg0))\n",
    "print(classification_report(Y_Test,prediction_xg0))"
   ]
  },
  {
   "cell_type": "code",
   "execution_count": 111,
   "metadata": {},
   "outputs": [],
   "source": [
    "from sklearn.model_selection import RandomizedSearchCV, GridSearchCV\n",
    "import xgboost\n",
    "classifier=xgboost.XGBClassifier()"
   ]
  },
  {
   "cell_type": "code",
   "execution_count": 112,
   "metadata": {},
   "outputs": [],
   "source": [
    "params={\n",
    " \"learning_rate\"    : [0.05, 0.10, 0.20, 0.25, 0.30,0.50] ,\n",
    " \"max_depth\"        : [ 3, 4, 5, 6, 8, 10, 12, 15],\n",
    " \"min_child_weight\" : [ 1, 3, 5, 7 ],\n",
    " \"gamma\"            : [ 0.0, 0.1, 0.2 , 0.3, 0.4 ],\n",
    " \"colsample_bytree\" : [ 0.3, 0.4, 0.5 , 0.7 ],\n",
    " \"n_estimators\"     : [100,300,500,700,800,1000]\n",
    "    \n",
    "}"
   ]
  },
  {
   "cell_type": "code",
   "execution_count": 113,
   "metadata": {},
   "outputs": [],
   "source": [
    "random_search=RandomizedSearchCV(classifier,param_distributions=params,n_iter=5,n_jobs=-1,cv=5,verbose=3)"
   ]
  },
  {
   "cell_type": "code",
   "execution_count": 114,
   "metadata": {},
   "outputs": [
    {
     "name": "stdout",
     "output_type": "stream",
     "text": [
      "Fitting 5 folds for each of 5 candidates, totalling 25 fits\n"
     ]
    },
    {
     "name": "stderr",
     "output_type": "stream",
     "text": [
      "[Parallel(n_jobs=-1)]: Using backend LokyBackend with 12 concurrent workers.\n",
      "[Parallel(n_jobs=-1)]: Done  11 out of  25 | elapsed:   27.2s remaining:   34.6s\n",
      "[Parallel(n_jobs=-1)]: Done  20 out of  25 | elapsed:   29.3s remaining:    7.3s\n",
      "[Parallel(n_jobs=-1)]: Done  25 out of  25 | elapsed:   32.4s finished\n"
     ]
    },
    {
     "data": {
      "text/plain": [
       "RandomizedSearchCV(cv=5, error_score='raise-deprecating',\n",
       "                   estimator=XGBClassifier(base_score=0.5, booster='gbtree',\n",
       "                                           colsample_bylevel=1,\n",
       "                                           colsample_bynode=1,\n",
       "                                           colsample_bytree=1, gamma=0,\n",
       "                                           learning_rate=0.1, max_delta_step=0,\n",
       "                                           max_depth=3, min_child_weight=1,\n",
       "                                           missing=None, n_estimators=100,\n",
       "                                           n_jobs=1, nthread=None,\n",
       "                                           objective='binary:logistic',\n",
       "                                           random_state=0, reg_alpha=0...\n",
       "                   iid='warn', n_iter=5, n_jobs=-1,\n",
       "                   param_distributions={'colsample_bytree': [0.3, 0.4, 0.5,\n",
       "                                                             0.7],\n",
       "                                        'gamma': [0.0, 0.1, 0.2, 0.3, 0.4],\n",
       "                                        'learning_rate': [0.05, 0.1, 0.2, 0.25,\n",
       "                                                          0.3, 0.5],\n",
       "                                        'max_depth': [3, 4, 5, 6, 8, 10, 12,\n",
       "                                                      15],\n",
       "                                        'min_child_weight': [1, 3, 5, 7],\n",
       "                                        'n_estimators': [100, 300, 500, 700,\n",
       "                                                         800, 1000]},\n",
       "                   pre_dispatch='2*n_jobs', random_state=None, refit=True,\n",
       "                   return_train_score=False, scoring=None, verbose=3)"
      ]
     },
     "execution_count": 114,
     "metadata": {},
     "output_type": "execute_result"
    }
   ],
   "source": [
    "random_search.fit(X_Train, Y_Train)"
   ]
  },
  {
   "cell_type": "code",
   "execution_count": 115,
   "metadata": {},
   "outputs": [
    {
     "name": "stdout",
     "output_type": "stream",
     "text": [
      "[[604  18   9   7]\n",
      " [  9 474   5   2]\n",
      " [  3   0 334   1]\n",
      " [ 13  11   2 508]]\n",
      "                                         precision    recall  f1-score   support\n",
      "\n",
      "              Highly_Fatal_And_Damaging       0.96      0.95      0.95       638\n",
      "              Minor_Damage_And_Injuries       0.94      0.97      0.95       490\n",
      "      Significant_Damage_And_Fatalities       0.95      0.99      0.97       338\n",
      "Significant_Damage_And_Serious_Injuries       0.98      0.95      0.97       534\n",
      "\n",
      "                               accuracy                           0.96      2000\n",
      "                              macro avg       0.96      0.96      0.96      2000\n",
      "                           weighted avg       0.96      0.96      0.96      2000\n",
      "\n"
     ]
    }
   ],
   "source": [
    "prediction_xg = random_search.predict(X_Test)\n",
    "print(confusion_matrix(Y_Test,prediction_xg))\n",
    "print(classification_report(Y_Test,prediction_xg))"
   ]
  },
  {
   "cell_type": "code",
   "execution_count": 135,
   "metadata": {},
   "outputs": [],
   "source": [
    "#prediction_xg_final=classifier.predict(test)\n",
    "#submission = pd.DataFrame({\n",
    " #       \"Accident_ID\": df_test[\"id\"],\n",
    "  #      \"Severity\": prediction_xg_final\n",
    "   # })\n",
    "#submission.to_csv('E:/crash_prediction/s5.csv', index=False)"
   ]
  },
  {
   "cell_type": "code",
   "execution_count": 116,
   "metadata": {},
   "outputs": [
    {
     "data": {
      "text/plain": [
       "XGBClassifier(base_score=0.5, booster='gbtree', colsample_bylevel=1,\n",
       "              colsample_bynode=1, colsample_bytree=0.7, gamma=0.2,\n",
       "              learning_rate=0.05, max_delta_step=0, max_depth=4,\n",
       "              min_child_weight=1, missing=None, n_estimators=1000, n_jobs=1,\n",
       "              nthread=None, objective='multi:softprob', random_state=0,\n",
       "              reg_alpha=0, reg_lambda=1, scale_pos_weight=1, seed=None,\n",
       "              silent=None, subsample=1, verbosity=1)"
      ]
     },
     "execution_count": 116,
     "metadata": {},
     "output_type": "execute_result"
    }
   ],
   "source": [
    "random_search.best_estimator_"
   ]
  },
  {
   "cell_type": "code",
   "execution_count": 117,
   "metadata": {},
   "outputs": [
    {
     "data": {
      "text/plain": [
       "{'n_estimators': 1000,\n",
       " 'min_child_weight': 1,\n",
       " 'max_depth': 4,\n",
       " 'learning_rate': 0.05,\n",
       " 'gamma': 0.2,\n",
       " 'colsample_bytree': 0.7}"
      ]
     },
     "execution_count": 117,
     "metadata": {},
     "output_type": "execute_result"
    }
   ],
   "source": [
    "random_search.best_params_"
   ]
  },
  {
   "cell_type": "code",
   "execution_count": 118,
   "metadata": {},
   "outputs": [],
   "source": [
    "classifier=xgboost.XGBClassifier(base_score=0.5, booster='gbtree', colsample_bylevel=1,\n",
    "              colsample_bynode=1, colsample_bytree=0.7, gamma=0.2,\n",
    "              learning_rate=0.05, max_delta_step=0, max_depth=4,\n",
    "              min_child_weight=1, missing=None, n_estimators=1000, n_jobs=1,\n",
    "              nthread=None, objective='multi:softprob', random_state=0,\n",
    "              reg_alpha=0, reg_lambda=1, scale_pos_weight=1, seed=None,\n",
    "              silent=None, subsample=1, verbosity=1)"
   ]
  },
  {
   "cell_type": "code",
   "execution_count": 119,
   "metadata": {},
   "outputs": [
    {
     "name": "stdout",
     "output_type": "stream",
     "text": [
      "[[604  18   9   7]\n",
      " [  9 474   5   2]\n",
      " [  3   0 334   1]\n",
      " [ 13  11   2 508]]\n",
      "                                         precision    recall  f1-score   support\n",
      "\n",
      "              Highly_Fatal_And_Damaging       0.96      0.95      0.95       638\n",
      "              Minor_Damage_And_Injuries       0.94      0.97      0.95       490\n",
      "      Significant_Damage_And_Fatalities       0.95      0.99      0.97       338\n",
      "Significant_Damage_And_Serious_Injuries       0.98      0.95      0.97       534\n",
      "\n",
      "                               accuracy                           0.96      2000\n",
      "                              macro avg       0.96      0.96      0.96      2000\n",
      "                           weighted avg       0.96      0.96      0.96      2000\n",
      "\n"
     ]
    }
   ],
   "source": [
    "classifier.fit(X_Train, Y_Train)\n",
    "prediction_xg1 = classifier.predict(X_Test)\n",
    "print(confusion_matrix(Y_Test,prediction_xg1))\n",
    "print(classification_report(Y_Test,prediction_xg1))\n"
   ]
  },
  {
   "cell_type": "code",
   "execution_count": 134,
   "metadata": {},
   "outputs": [],
   "source": [
    "#prediction_xg1_final=classifier.predict(test)\n",
    "#submission = pd.DataFrame({\n",
    " #       \"Accident_ID\": df_test[\"id\"],\n",
    "  #      \"Severity\": prediction_xg1_final\n",
    "   # })\n",
    "#submission.to_csv('E:/crash_prediction/s4.csv', index=False)"
   ]
  },
  {
   "cell_type": "markdown",
   "metadata": {},
   "source": [
    "### XGBRFClassifier\n",
    "\n",
    "[click](https://xgboost.readthedocs.io/en/latest/tutorials/rf.html#standalone-random-forest-with-scikit-learn-like-api)"
   ]
  },
  {
   "cell_type": "code",
   "execution_count": 120,
   "metadata": {},
   "outputs": [],
   "source": [
    "classifier_rf=xgboost.XGBRFClassifier()"
   ]
  },
  {
   "cell_type": "code",
   "execution_count": 121,
   "metadata": {},
   "outputs": [],
   "source": [
    "random_search1=RandomizedSearchCV(classifier,param_distributions=params,n_iter=5,n_jobs=-1,cv=5,verbose=3)"
   ]
  },
  {
   "cell_type": "code",
   "execution_count": 122,
   "metadata": {},
   "outputs": [
    {
     "name": "stdout",
     "output_type": "stream",
     "text": [
      "Fitting 5 folds for each of 5 candidates, totalling 25 fits\n"
     ]
    },
    {
     "name": "stderr",
     "output_type": "stream",
     "text": [
      "[Parallel(n_jobs=-1)]: Using backend LokyBackend with 12 concurrent workers.\n",
      "[Parallel(n_jobs=-1)]: Done  11 out of  25 | elapsed:   24.8s remaining:   31.6s\n",
      "[Parallel(n_jobs=-1)]: Done  20 out of  25 | elapsed:   30.1s remaining:    7.4s\n",
      "[Parallel(n_jobs=-1)]: Done  25 out of  25 | elapsed:   49.7s finished\n"
     ]
    },
    {
     "data": {
      "text/plain": [
       "RandomizedSearchCV(cv=5, error_score='raise-deprecating',\n",
       "                   estimator=XGBClassifier(base_score=0.5, booster='gbtree',\n",
       "                                           colsample_bylevel=1,\n",
       "                                           colsample_bynode=1,\n",
       "                                           colsample_bytree=0.7, gamma=0.2,\n",
       "                                           learning_rate=0.05, max_delta_step=0,\n",
       "                                           max_depth=4, min_child_weight=1,\n",
       "                                           missing=None, n_estimators=1000,\n",
       "                                           n_jobs=1, nthread=None,\n",
       "                                           objective='multi:softprob',\n",
       "                                           random_state=0, reg_al...\n",
       "                   iid='warn', n_iter=5, n_jobs=-1,\n",
       "                   param_distributions={'colsample_bytree': [0.3, 0.4, 0.5,\n",
       "                                                             0.7],\n",
       "                                        'gamma': [0.0, 0.1, 0.2, 0.3, 0.4],\n",
       "                                        'learning_rate': [0.05, 0.1, 0.2, 0.25,\n",
       "                                                          0.3, 0.5],\n",
       "                                        'max_depth': [3, 4, 5, 6, 8, 10, 12,\n",
       "                                                      15],\n",
       "                                        'min_child_weight': [1, 3, 5, 7],\n",
       "                                        'n_estimators': [100, 300, 500, 700,\n",
       "                                                         800, 1000]},\n",
       "                   pre_dispatch='2*n_jobs', random_state=None, refit=True,\n",
       "                   return_train_score=False, scoring=None, verbose=3)"
      ]
     },
     "execution_count": 122,
     "metadata": {},
     "output_type": "execute_result"
    }
   ],
   "source": [
    "random_search1.fit(X_Train, Y_Train)"
   ]
  },
  {
   "cell_type": "code",
   "execution_count": 123,
   "metadata": {},
   "outputs": [
    {
     "name": "stdout",
     "output_type": "stream",
     "text": [
      "[[449 111  35  43]\n",
      " [ 21 344  74  51]\n",
      " [ 31  46 216  45]\n",
      " [ 58  80  12 384]]\n",
      "                                         precision    recall  f1-score   support\n",
      "\n",
      "              Highly_Fatal_And_Damaging       0.80      0.70      0.75       638\n",
      "              Minor_Damage_And_Injuries       0.59      0.70      0.64       490\n",
      "      Significant_Damage_And_Fatalities       0.64      0.64      0.64       338\n",
      "Significant_Damage_And_Serious_Injuries       0.73      0.72      0.73       534\n",
      "\n",
      "                               accuracy                           0.70      2000\n",
      "                              macro avg       0.69      0.69      0.69      2000\n",
      "                           weighted avg       0.71      0.70      0.70      2000\n",
      "\n"
     ]
    }
   ],
   "source": [
    "classifier_rf.fit(X_Train, Y_Train)\n",
    "prediction_xg2 = classifier_rf.predict(X_Test)\n",
    "print(confusion_matrix(Y_Test,prediction_xg2))\n",
    "print(classification_report(Y_Test,prediction_xg2))"
   ]
  },
  {
   "cell_type": "code",
   "execution_count": null,
   "metadata": {},
   "outputs": [],
   "source": []
  }
 ],
 "metadata": {
  "kernelspec": {
   "display_name": "Python 3",
   "language": "python",
   "name": "python3"
  },
  "language_info": {
   "codemirror_mode": {
    "name": "ipython",
    "version": 3
   },
   "file_extension": ".py",
   "mimetype": "text/x-python",
   "name": "python",
   "nbconvert_exporter": "python",
   "pygments_lexer": "ipython3",
   "version": "3.7.4"
  }
 },
 "nbformat": 4,
 "nbformat_minor": 2
}
