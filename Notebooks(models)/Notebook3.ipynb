{
 "cells": [
  {
   "cell_type": "code",
   "execution_count": 140,
   "metadata": {},
   "outputs": [],
   "source": [
    "import numpy as np \n",
    "import pandas as pd \n",
    "import seaborn as sns\n",
    "import matplotlib.pyplot as plt\n",
    "import category_encoders as ce   \n",
    "from sklearn.preprocessing import LabelEncoder\n"
   ]
  },
  {
   "cell_type": "code",
   "execution_count": 141,
   "metadata": {},
   "outputs": [
    {
     "data": {
      "text/html": [
       "<div>\n",
       "<style scoped>\n",
       "    .dataframe tbody tr th:only-of-type {\n",
       "        vertical-align: middle;\n",
       "    }\n",
       "\n",
       "    .dataframe tbody tr th {\n",
       "        vertical-align: top;\n",
       "    }\n",
       "\n",
       "    .dataframe thead th {\n",
       "        text-align: right;\n",
       "    }\n",
       "</style>\n",
       "<table border=\"1\" class=\"dataframe\">\n",
       "  <thead>\n",
       "    <tr style=\"text-align: right;\">\n",
       "      <th></th>\n",
       "      <th>Safety_Score</th>\n",
       "      <th>days</th>\n",
       "      <th>complaints</th>\n",
       "      <th>Control_Metric</th>\n",
       "      <th>turbulence</th>\n",
       "      <th>temp</th>\n",
       "      <th>code</th>\n",
       "      <th>Max_Elevation</th>\n",
       "      <th>Violations</th>\n",
       "      <th>weather</th>\n",
       "      <th>id</th>\n",
       "    </tr>\n",
       "  </thead>\n",
       "  <tbody>\n",
       "    <tr>\n",
       "      <td>0</td>\n",
       "      <td>19.497717</td>\n",
       "      <td>16</td>\n",
       "      <td>6</td>\n",
       "      <td>72.151322</td>\n",
       "      <td>0.388959</td>\n",
       "      <td>78.32</td>\n",
       "      <td>4</td>\n",
       "      <td>37949.724386</td>\n",
       "      <td>2</td>\n",
       "      <td>0.069692</td>\n",
       "      <td>1</td>\n",
       "    </tr>\n",
       "    <tr>\n",
       "      <td>1</td>\n",
       "      <td>58.173516</td>\n",
       "      <td>15</td>\n",
       "      <td>3</td>\n",
       "      <td>64.585232</td>\n",
       "      <td>0.250841</td>\n",
       "      <td>78.60</td>\n",
       "      <td>7</td>\n",
       "      <td>30194.805567</td>\n",
       "      <td>2</td>\n",
       "      <td>0.002777</td>\n",
       "      <td>10</td>\n",
       "    </tr>\n",
       "    <tr>\n",
       "      <td>2</td>\n",
       "      <td>33.287671</td>\n",
       "      <td>15</td>\n",
       "      <td>3</td>\n",
       "      <td>64.721969</td>\n",
       "      <td>0.336669</td>\n",
       "      <td>86.96</td>\n",
       "      <td>6</td>\n",
       "      <td>17572.925484</td>\n",
       "      <td>1</td>\n",
       "      <td>0.004316</td>\n",
       "      <td>14</td>\n",
       "    </tr>\n",
       "    <tr>\n",
       "      <td>3</td>\n",
       "      <td>3.287671</td>\n",
       "      <td>21</td>\n",
       "      <td>5</td>\n",
       "      <td>66.362808</td>\n",
       "      <td>0.421775</td>\n",
       "      <td>80.86</td>\n",
       "      <td>3</td>\n",
       "      <td>40209.186341</td>\n",
       "      <td>2</td>\n",
       "      <td>0.199990</td>\n",
       "      <td>17</td>\n",
       "    </tr>\n",
       "    <tr>\n",
       "      <td>4</td>\n",
       "      <td>10.867580</td>\n",
       "      <td>18</td>\n",
       "      <td>2</td>\n",
       "      <td>56.107566</td>\n",
       "      <td>0.313228</td>\n",
       "      <td>79.22</td>\n",
       "      <td>2</td>\n",
       "      <td>35495.525408</td>\n",
       "      <td>2</td>\n",
       "      <td>0.483696</td>\n",
       "      <td>21</td>\n",
       "    </tr>\n",
       "  </tbody>\n",
       "</table>\n",
       "</div>"
      ],
      "text/plain": [
       "   Safety_Score  days  complaints  Control_Metric  turbulence   temp  code  \\\n",
       "0     19.497717    16           6       72.151322    0.388959  78.32     4   \n",
       "1     58.173516    15           3       64.585232    0.250841  78.60     7   \n",
       "2     33.287671    15           3       64.721969    0.336669  86.96     6   \n",
       "3      3.287671    21           5       66.362808    0.421775  80.86     3   \n",
       "4     10.867580    18           2       56.107566    0.313228  79.22     2   \n",
       "\n",
       "   Max_Elevation  Violations   weather  id  \n",
       "0   37949.724386           2  0.069692   1  \n",
       "1   30194.805567           2  0.002777  10  \n",
       "2   17572.925484           1  0.004316  14  \n",
       "3   40209.186341           2  0.199990  17  \n",
       "4   35495.525408           2  0.483696  21  "
      ]
     },
     "execution_count": 141,
     "metadata": {},
     "output_type": "execute_result"
    }
   ],
   "source": [
    "import warnings\n",
    "warnings.filterwarnings('ignore')\n",
    "\n",
    "train_dir='E:/crash_prediction/train.csv'\n",
    "test_dir='E:/crash_prediction/test.csv'\n",
    "\n",
    "col=['Severity','Safety_Score','days','complaints','Control_Metric','turbulence','temp','code','Max_Elevation','Violations','weather','id']\n",
    "df = pd.read_csv(train_dir)\n",
    "df_test= pd.read_csv(test_dir)\n",
    "\n",
    "df.columns=col\n",
    "df_test.columns=col[1:]\n",
    "\n",
    "df_test.head(5)"
   ]
  },
  {
   "cell_type": "code",
   "execution_count": 142,
   "metadata": {},
   "outputs": [
    {
     "data": {
      "text/html": [
       "<div>\n",
       "<style scoped>\n",
       "    .dataframe tbody tr th:only-of-type {\n",
       "        vertical-align: middle;\n",
       "    }\n",
       "\n",
       "    .dataframe tbody tr th {\n",
       "        vertical-align: top;\n",
       "    }\n",
       "\n",
       "    .dataframe thead th {\n",
       "        text-align: right;\n",
       "    }\n",
       "</style>\n",
       "<table border=\"1\" class=\"dataframe\">\n",
       "  <thead>\n",
       "    <tr style=\"text-align: right;\">\n",
       "      <th></th>\n",
       "      <th>Severity</th>\n",
       "      <th>Safety_Score</th>\n",
       "      <th>days</th>\n",
       "      <th>complaints</th>\n",
       "      <th>Control_Metric</th>\n",
       "      <th>turbulence</th>\n",
       "      <th>temp</th>\n",
       "      <th>code</th>\n",
       "      <th>Max_Elevation</th>\n",
       "      <th>Violations</th>\n",
       "      <th>weather</th>\n",
       "    </tr>\n",
       "  </thead>\n",
       "  <tbody>\n",
       "    <tr>\n",
       "      <td>0</td>\n",
       "      <td>Minor_Damage_And_Injuries</td>\n",
       "      <td>49.223744</td>\n",
       "      <td>14</td>\n",
       "      <td>22</td>\n",
       "      <td>71.285324</td>\n",
       "      <td>0.272118</td>\n",
       "      <td>78.04</td>\n",
       "      <td>2</td>\n",
       "      <td>31335.476824</td>\n",
       "      <td>3</td>\n",
       "      <td>0.424352</td>\n",
       "    </tr>\n",
       "    <tr>\n",
       "      <td>1</td>\n",
       "      <td>Minor_Damage_And_Injuries</td>\n",
       "      <td>62.465753</td>\n",
       "      <td>10</td>\n",
       "      <td>27</td>\n",
       "      <td>72.288058</td>\n",
       "      <td>0.423939</td>\n",
       "      <td>84.54</td>\n",
       "      <td>2</td>\n",
       "      <td>26024.711057</td>\n",
       "      <td>2</td>\n",
       "      <td>0.352350</td>\n",
       "    </tr>\n",
       "    <tr>\n",
       "      <td>2</td>\n",
       "      <td>Significant_Damage_And_Fatalities</td>\n",
       "      <td>63.059361</td>\n",
       "      <td>13</td>\n",
       "      <td>16</td>\n",
       "      <td>66.362808</td>\n",
       "      <td>0.322604</td>\n",
       "      <td>78.86</td>\n",
       "      <td>7</td>\n",
       "      <td>39269.053927</td>\n",
       "      <td>3</td>\n",
       "      <td>0.003364</td>\n",
       "    </tr>\n",
       "    <tr>\n",
       "      <td>3</td>\n",
       "      <td>Significant_Damage_And_Serious_Injuries</td>\n",
       "      <td>48.082192</td>\n",
       "      <td>11</td>\n",
       "      <td>9</td>\n",
       "      <td>74.703737</td>\n",
       "      <td>0.337029</td>\n",
       "      <td>81.79</td>\n",
       "      <td>3</td>\n",
       "      <td>42771.499200</td>\n",
       "      <td>1</td>\n",
       "      <td>0.211728</td>\n",
       "    </tr>\n",
       "    <tr>\n",
       "      <td>4</td>\n",
       "      <td>Significant_Damage_And_Fatalities</td>\n",
       "      <td>26.484018</td>\n",
       "      <td>13</td>\n",
       "      <td>25</td>\n",
       "      <td>47.948952</td>\n",
       "      <td>0.541140</td>\n",
       "      <td>77.16</td>\n",
       "      <td>3</td>\n",
       "      <td>35509.228515</td>\n",
       "      <td>2</td>\n",
       "      <td>0.176883</td>\n",
       "    </tr>\n",
       "    <tr>\n",
       "      <td>5</td>\n",
       "      <td>Minor_Damage_And_Injuries</td>\n",
       "      <td>43.333333</td>\n",
       "      <td>15</td>\n",
       "      <td>0</td>\n",
       "      <td>73.336372</td>\n",
       "      <td>0.432954</td>\n",
       "      <td>78.63</td>\n",
       "      <td>2</td>\n",
       "      <td>29288.448105</td>\n",
       "      <td>1</td>\n",
       "      <td>0.394505</td>\n",
       "    </tr>\n",
       "    <tr>\n",
       "      <td>6</td>\n",
       "      <td>Highly_Fatal_And_Damaging</td>\n",
       "      <td>22.009132</td>\n",
       "      <td>15</td>\n",
       "      <td>10</td>\n",
       "      <td>62.853236</td>\n",
       "      <td>0.314671</td>\n",
       "      <td>88.04</td>\n",
       "      <td>4</td>\n",
       "      <td>32342.109345</td>\n",
       "      <td>0</td>\n",
       "      <td>0.058872</td>\n",
       "    </tr>\n",
       "  </tbody>\n",
       "</table>\n",
       "</div>"
      ],
      "text/plain": [
       "                                  Severity  Safety_Score  days  complaints  \\\n",
       "0                Minor_Damage_And_Injuries     49.223744    14          22   \n",
       "1                Minor_Damage_And_Injuries     62.465753    10          27   \n",
       "2        Significant_Damage_And_Fatalities     63.059361    13          16   \n",
       "3  Significant_Damage_And_Serious_Injuries     48.082192    11           9   \n",
       "4        Significant_Damage_And_Fatalities     26.484018    13          25   \n",
       "5                Minor_Damage_And_Injuries     43.333333    15           0   \n",
       "6                Highly_Fatal_And_Damaging     22.009132    15          10   \n",
       "\n",
       "   Control_Metric  turbulence   temp  code  Max_Elevation  Violations  \\\n",
       "0       71.285324    0.272118  78.04     2   31335.476824           3   \n",
       "1       72.288058    0.423939  84.54     2   26024.711057           2   \n",
       "2       66.362808    0.322604  78.86     7   39269.053927           3   \n",
       "3       74.703737    0.337029  81.79     3   42771.499200           1   \n",
       "4       47.948952    0.541140  77.16     3   35509.228515           2   \n",
       "5       73.336372    0.432954  78.63     2   29288.448105           1   \n",
       "6       62.853236    0.314671  88.04     4   32342.109345           0   \n",
       "\n",
       "    weather  \n",
       "0  0.424352  \n",
       "1  0.352350  \n",
       "2  0.003364  \n",
       "3  0.211728  \n",
       "4  0.176883  \n",
       "5  0.394505  \n",
       "6  0.058872  "
      ]
     },
     "execution_count": 142,
     "metadata": {},
     "output_type": "execute_result"
    }
   ],
   "source": [
    "train = df.drop( ['id'] ,axis=1)\n",
    "test = df_test.drop( ['id'] ,axis=1)\n",
    "\n",
    "train.head(7)"
   ]
  },
  {
   "cell_type": "code",
   "execution_count": 143,
   "metadata": {},
   "outputs": [
    {
     "name": "stdout",
     "output_type": "stream",
     "text": [
      "<class 'pandas.core.frame.DataFrame'>\n",
      "RangeIndex: 10000 entries, 0 to 9999\n",
      "Data columns (total 11 columns):\n",
      "Severity          10000 non-null object\n",
      "Safety_Score      10000 non-null float64\n",
      "days              10000 non-null int64\n",
      "complaints        10000 non-null int64\n",
      "Control_Metric    10000 non-null float64\n",
      "turbulence        10000 non-null float64\n",
      "temp              10000 non-null float64\n",
      "code              10000 non-null int64\n",
      "Max_Elevation     10000 non-null float64\n",
      "Violations        10000 non-null int64\n",
      "weather           10000 non-null float64\n",
      "dtypes: float64(6), int64(4), object(1)\n",
      "memory usage: 859.5+ KB\n"
     ]
    }
   ],
   "source": [
    "train.info()"
   ]
  },
  {
   "cell_type": "code",
   "execution_count": 144,
   "metadata": {},
   "outputs": [
    {
     "data": {
      "text/plain": [
       "<matplotlib.axes._subplots.AxesSubplot at 0x1d073f5a988>"
      ]
     },
     "execution_count": 144,
     "metadata": {},
     "output_type": "execute_result"
    },
    {
     "data": {
      "image/png": "[encoded data removed]",
      "text/plain": [
       "<Figure size 432x288 with 2 Axes>"
      ]
     },
     "metadata": {
      "needs_background": "light"
     },
     "output_type": "display_data"
    }
   ],
   "source": [
    "import seaborn as sns\n",
    "import matplotlib.pyplot as plt\n",
    "\n",
    "import seaborn as sns\n",
    "\n",
    "corr=train.corr()\n",
    "sns.heatmap(corr, xticklabels=corr.columns.values, yticklabels=corr.columns.values)"
   ]
  },
  {
   "cell_type": "code",
   "execution_count": 145,
   "metadata": {},
   "outputs": [
    {
     "data": {
      "text/plain": [
       "<matplotlib.axes._subplots.AxesSubplot at 0x1d07401b548>"
      ]
     },
     "execution_count": 145,
     "metadata": {},
     "output_type": "execute_result"
    },
    {
     "data": {
      "image/png": "[encoded data removed]",
      "text/plain": [
       "<Figure size 432x288 with 1 Axes>"
      ]
     },
     "metadata": {
      "needs_background": "light"
     },
     "output_type": "display_data"
    }
   ],
   "source": [
    "sns.barplot(x='Safety_Score', y='Severity',data=train)"
   ]
  },
  {
   "cell_type": "code",
   "execution_count": 146,
   "metadata": {
    "scrolled": true
   },
   "outputs": [],
   "source": [
    "train['Safety_Score']=(train['Safety_Score']-train['Safety_Score'].mean())/train['Safety_Score'].std()\n",
    "test['Safety_Score']=(test['Safety_Score']-test['Safety_Score'].mean())/test['Safety_Score'].std()"
   ]
  },
  {
   "cell_type": "code",
   "execution_count": 147,
   "metadata": {},
   "outputs": [
    {
     "data": {
      "text/plain": [
       "<matplotlib.axes._subplots.AxesSubplot at 0x1d073f53c08>"
      ]
     },
     "execution_count": 147,
     "metadata": {},
     "output_type": "execute_result"
    },
    {
     "data": {
      "image/png": "[encoded data removed]",
      "text/plain": [
       "<Figure size 432x288 with 1 Axes>"
      ]
     },
     "metadata": {
      "needs_background": "light"
     },
     "output_type": "display_data"
    }
   ],
   "source": [
    "sns.barplot(x='Control_Metric', y='Severity',data=train)"
   ]
  },
  {
   "cell_type": "code",
   "execution_count": 148,
   "metadata": {},
   "outputs": [],
   "source": [
    "train['Control_Metric']=(train['Control_Metric']-train['Control_Metric'].mean())/train['Control_Metric'].std()\n",
    "test['Control_Metric']=(test['Control_Metric']-test['Control_Metric'].mean())/test['Control_Metric'].std()"
   ]
  },
  {
   "cell_type": "code",
   "execution_count": 149,
   "metadata": {},
   "outputs": [
    {
     "data": {
      "text/plain": [
       "<matplotlib.axes._subplots.AxesSubplot at 0x1d0740e5108>"
      ]
     },
     "execution_count": 149,
     "metadata": {},
     "output_type": "execute_result"
    },
    {
     "data": {
      "image/png": "[encoded data removed]",
      "text/plain": [
       "<Figure size 432x288 with 1 Axes>"
      ]
     },
     "metadata": {
      "needs_background": "light"
     },
     "output_type": "display_data"
    }
   ],
   "source": [
    "sns.barplot(x='turbulence', y='Severity',data=train)"
   ]
  },
  {
   "cell_type": "code",
   "execution_count": 150,
   "metadata": {},
   "outputs": [],
   "source": [
    "train['turbulence']=(train['turbulence']-train['turbulence'].mean())/train['turbulence'].std()\n",
    "test['turbulence']=(test['turbulence']-test['turbulence'].mean())/test['turbulence'].std()"
   ]
  },
  {
   "cell_type": "code",
   "execution_count": 151,
   "metadata": {},
   "outputs": [
    {
     "data": {
      "text/plain": [
       "<matplotlib.axes._subplots.AxesSubplot at 0x1d074145d48>"
      ]
     },
     "execution_count": 151,
     "metadata": {},
     "output_type": "execute_result"
    },
    {
     "data": {
      "image/png": "[encoded data removed]",
      "text/plain": [
       "<Figure size 432x288 with 1 Axes>"
      ]
     },
     "metadata": {
      "needs_background": "light"
     },
     "output_type": "display_data"
    }
   ],
   "source": [
    "sns.barplot(x='temp', y='Severity',data=train)"
   ]
  },
  {
   "cell_type": "code",
   "execution_count": 152,
   "metadata": {},
   "outputs": [],
   "source": [
    "train['temp']=(train['temp']-train['temp'].mean())/train['temp'].std()\n",
    "test['temp']=(test['temp']-test['temp'].mean())/test['temp'].std()"
   ]
  },
  {
   "cell_type": "code",
   "execution_count": 153,
   "metadata": {},
   "outputs": [
    {
     "data": {
      "text/plain": [
       "<matplotlib.axes._subplots.AxesSubplot at 0x1d0741bec88>"
      ]
     },
     "execution_count": 153,
     "metadata": {},
     "output_type": "execute_result"
    },
    {
     "data": {
      "image/png": "[encoded data removed]",
      "text/plain": [
       "<Figure size 432x288 with 1 Axes>"
      ]
     },
     "metadata": {
      "needs_background": "light"
     },
     "output_type": "display_data"
    }
   ],
   "source": [
    "sns.barplot(x='Max_Elevation', y='Severity',data=train)"
   ]
  },
  {
   "cell_type": "code",
   "execution_count": 154,
   "metadata": {},
   "outputs": [],
   "source": [
    "train['Max_Elevation']=(train['Max_Elevation']-train['Max_Elevation'].mean())/train['Max_Elevation'].std()\n",
    "test['Max_Elevation']=(test['Max_Elevation']-test['Max_Elevation'].mean())/test['Max_Elevation'].std()"
   ]
  },
  {
   "cell_type": "code",
   "execution_count": 155,
   "metadata": {},
   "outputs": [
    {
     "data": {
      "text/plain": [
       "<matplotlib.axes._subplots.AxesSubplot at 0x1d074247108>"
      ]
     },
     "execution_count": 155,
     "metadata": {},
     "output_type": "execute_result"
    },
    {
     "data": {
      "image/png": "[encoded data removed]",
      "text/plain": [
       "<Figure size 432x288 with 1 Axes>"
      ]
     },
     "metadata": {
      "needs_background": "light"
     },
     "output_type": "display_data"
    }
   ],
   "source": [
    "sns.barplot(x='weather', y='Severity',data=train)"
   ]
  },
  {
   "cell_type": "code",
   "execution_count": 156,
   "metadata": {},
   "outputs": [],
   "source": [
    "train['weather']=(train['weather']-train['weather'].mean())/train['weather'].std()\n",
    "test['weather']=(test['weather']-test['weather'].mean())/test['weather'].std()"
   ]
  },
  {
   "cell_type": "code",
   "execution_count": 157,
   "metadata": {},
   "outputs": [
    {
     "data": {
      "text/plain": [
       "<matplotlib.axes._subplots.AxesSubplot at 0x1d0742ba0c8>"
      ]
     },
     "execution_count": 157,
     "metadata": {},
     "output_type": "execute_result"
    },
    {
     "data": {
      "image/png": "[encoded data removed]",
      "text/plain": [
       "<Figure size 432x288 with 1 Axes>"
      ]
     },
     "metadata": {
      "needs_background": "light"
     },
     "output_type": "display_data"
    }
   ],
   "source": [
    "sns.barplot(x='days', y='Severity',data=train)"
   ]
  },
  {
   "cell_type": "code",
   "execution_count": 158,
   "metadata": {},
   "outputs": [],
   "source": [
    "train['days']=(train['days']-train['days'].mean())/train['days'].std()\n",
    "test['days']=(test['days']-test['days'].mean())/test['days'].std()"
   ]
  },
  {
   "cell_type": "code",
   "execution_count": 159,
   "metadata": {},
   "outputs": [
    {
     "data": {
      "text/plain": [
       "<matplotlib.axes._subplots.AxesSubplot at 0x1d07432e608>"
      ]
     },
     "execution_count": 159,
     "metadata": {},
     "output_type": "execute_result"
    },
    {
     "data": {
      "image/png": "[encoded data removed]",
      "text/plain": [
       "<Figure size 432x288 with 1 Axes>"
      ]
     },
     "metadata": {
      "needs_background": "light"
     },
     "output_type": "display_data"
    }
   ],
   "source": [
    "sns.barplot(x='complaints', y='Severity',data=train)"
   ]
  },
  {
   "cell_type": "code",
   "execution_count": 160,
   "metadata": {},
   "outputs": [],
   "source": [
    "train['complaints']=(train['complaints']-train['complaints'].mean())/train['complaints'].std()\n",
    "test['complaints']=(test['complaints']-test['complaints'].mean())/test['complaints'].std()"
   ]
  },
  {
   "cell_type": "code",
   "execution_count": 161,
   "metadata": {},
   "outputs": [
    {
     "data": {
      "text/plain": [
       "<matplotlib.axes._subplots.AxesSubplot at 0x1d0743a61c8>"
      ]
     },
     "execution_count": 161,
     "metadata": {},
     "output_type": "execute_result"
    },
    {
     "data": {
      "image/png": "[encoded data removed]",
      "text/plain": [
       "<Figure size 432x288 with 1 Axes>"
      ]
     },
     "metadata": {
      "needs_background": "light"
     },
     "output_type": "display_data"
    }
   ],
   "source": [
    "sns.barplot(x='code', y='Severity',data=train)"
   ]
  },
  {
   "cell_type": "code",
   "execution_count": 162,
   "metadata": {},
   "outputs": [],
   "source": [
    "train['code']=(train['code']-train['code'].mean())/train['code'].std()\n",
    "test['code']=(test['code']-test['code'].mean())/test['code'].std()"
   ]
  },
  {
   "cell_type": "code",
   "execution_count": 163,
   "metadata": {},
   "outputs": [
    {
     "data": {
      "text/plain": [
       "<matplotlib.axes._subplots.AxesSubplot at 0x1d074415408>"
      ]
     },
     "execution_count": 163,
     "metadata": {},
     "output_type": "execute_result"
    },
    {
     "data": {
      "image/png": "[encoded data removed]",
      "text/plain": [
       "<Figure size 432x288 with 1 Axes>"
      ]
     },
     "metadata": {
      "needs_background": "light"
     },
     "output_type": "display_data"
    }
   ],
   "source": [
    "sns.barplot(x='Violations', y='Severity',data=train)"
   ]
  },
  {
   "cell_type": "code",
   "execution_count": 164,
   "metadata": {},
   "outputs": [],
   "source": [
    "train['Violations']=(train['Violations']-train['Violations'].mean())/train['Violations'].std()\n",
    "test['Violations']=(test['Violations']-test['Violations'].mean())/test['Violations'].std()"
   ]
  },
  {
   "cell_type": "code",
   "execution_count": 165,
   "metadata": {},
   "outputs": [],
   "source": [
    "from sklearn.model_selection import train_test_split\n",
    "\n",
    "X = train.drop(['Severity'], axis = 1)\n",
    "Y = train['Severity']\n",
    "\n",
    "X_Train, X_Test, Y_Train, Y_Test = train_test_split(X, Y, test_size = 0.20, random_state = 10)"
   ]
  },
  {
   "cell_type": "code",
   "execution_count": 166,
   "metadata": {},
   "outputs": [
    {
     "name": "stdout",
     "output_type": "stream",
     "text": [
      "<class 'pandas.core.frame.DataFrame'>\n",
      "Int64Index: 8000 entries, 7496 to 1289\n",
      "Data columns (total 10 columns):\n",
      "Safety_Score      8000 non-null float64\n",
      "days              8000 non-null float64\n",
      "complaints        8000 non-null float64\n",
      "Control_Metric    8000 non-null float64\n",
      "turbulence        8000 non-null float64\n",
      "temp              8000 non-null float64\n",
      "code              8000 non-null float64\n",
      "Max_Elevation     8000 non-null float64\n",
      "Violations        8000 non-null float64\n",
      "weather           8000 non-null float64\n",
      "dtypes: float64(10)\n",
      "memory usage: 687.5 KB\n"
     ]
    }
   ],
   "source": [
    "X_Train.info()"
   ]
  },
  {
   "cell_type": "code",
   "execution_count": 167,
   "metadata": {},
   "outputs": [
    {
     "name": "stdout",
     "output_type": "stream",
     "text": [
      "7496    Significant_Damage_And_Serious_Injuries\n",
      "7694          Significant_Damage_And_Fatalities\n",
      "9248                  Minor_Damage_And_Injuries\n",
      "2470    Significant_Damage_And_Serious_Injuries\n",
      "4392    Significant_Damage_And_Serious_Injuries\n",
      "                         ...                   \n",
      "9372                  Minor_Damage_And_Injuries\n",
      "7291    Significant_Damage_And_Serious_Injuries\n",
      "1344                  Minor_Damage_And_Injuries\n",
      "7293    Significant_Damage_And_Serious_Injuries\n",
      "1289    Significant_Damage_And_Serious_Injuries\n",
      "Name: Severity, Length: 8000, dtype: object\n"
     ]
    }
   ],
   "source": [
    "print(Y_Train)"
   ]
  },
  {
   "cell_type": "code",
   "execution_count": 168,
   "metadata": {},
   "outputs": [],
   "source": [
    "from sklearn.linear_model import LogisticRegression\n",
    "from sklearn.metrics import classification_report,confusion_matrix\n",
    "from sklearn.ensemble import RandomForestClassifier\n",
    "from sklearn import svm\n",
    "from sklearn import tree\n",
    "from sklearn.discriminant_analysis import LinearDiscriminantAnalysis\n",
    "from sklearn.naive_bayes import GaussianNB\n",
    "from sklearn.manifold import TSNE\n",
    "from sklearn.decomposition import PCA"
   ]
  },
  {
   "cell_type": "code",
   "execution_count": 169,
   "metadata": {},
   "outputs": [
    {
     "data": {
      "text/plain": [
       "0.831125"
      ]
     },
     "execution_count": 169,
     "metadata": {},
     "output_type": "execute_result"
    }
   ],
   "source": [
    "from sklearn.neighbors import KNeighborsClassifier\n",
    "knn = KNeighborsClassifier(n_neighbors = 4)\n",
    "\n",
    "knn.fit(X_Train, Y_Train)\n",
    "\n",
    "Y_pred = knn.predict(X_Test)\n",
    "\n",
    "knn.score(X_Train, Y_Train)"
   ]
  },
  {
   "cell_type": "code",
   "execution_count": 170,
   "metadata": {},
   "outputs": [
    {
     "name": "stdout",
     "output_type": "stream",
     "text": [
      "[[528  84  23   3]\n",
      " [  8 340  47  95]\n",
      " [149  69  77  43]\n",
      " [100  97  54 283]]\n",
      "                                         precision    recall  f1-score   support\n",
      "\n",
      "              Highly_Fatal_And_Damaging       0.67      0.83      0.74       638\n",
      "              Minor_Damage_And_Injuries       0.58      0.69      0.63       490\n",
      "      Significant_Damage_And_Fatalities       0.38      0.23      0.29       338\n",
      "Significant_Damage_And_Serious_Injuries       0.67      0.53      0.59       534\n",
      "\n",
      "                               accuracy                           0.61      2000\n",
      "                              macro avg       0.57      0.57      0.56      2000\n",
      "                           weighted avg       0.60      0.61      0.60      2000\n",
      "\n"
     ]
    }
   ],
   "source": [
    "trainedmodel = LogisticRegression().fit(X_Train,Y_Train)\n",
    "predictions =trainedmodel.predict(X_Test)\n",
    "print(confusion_matrix(Y_Test,predictions))\n",
    "print(classification_report(Y_Test,predictions))"
   ]
  },
  {
   "cell_type": "code",
   "execution_count": 171,
   "metadata": {},
   "outputs": [
    {
     "name": "stdout",
     "output_type": "stream",
     "text": [
      "[[595  22   9  12]\n",
      " [ 14 464  10   2]\n",
      " [  1  14 321   2]\n",
      " [ 14  21   3 496]]\n",
      "                                         precision    recall  f1-score   support\n",
      "\n",
      "              Highly_Fatal_And_Damaging       0.95      0.93      0.94       638\n",
      "              Minor_Damage_And_Injuries       0.89      0.95      0.92       490\n",
      "      Significant_Damage_And_Fatalities       0.94      0.95      0.94       338\n",
      "Significant_Damage_And_Serious_Injuries       0.97      0.93      0.95       534\n",
      "\n",
      "                               accuracy                           0.94      2000\n",
      "                              macro avg       0.94      0.94      0.94      2000\n",
      "                           weighted avg       0.94      0.94      0.94      2000\n",
      "\n"
     ]
    }
   ],
   "source": [
    "trainedforest = RandomForestClassifier(n_estimators=700).fit(X_Train,Y_Train)\n",
    "predictionforest = trainedforest.predict(X_Test)\n",
    "print(confusion_matrix(Y_Test,predictionforest))\n",
    "print(classification_report(Y_Test,predictionforest))"
   ]
  },
  {
   "cell_type": "code",
   "execution_count": 172,
   "metadata": {},
   "outputs": [
    {
     "name": "stdout",
     "output_type": "stream",
     "text": [
      "[[529  89  18   2]\n",
      " [ 25 346  41  78]\n",
      " [151  71  76  40]\n",
      " [185  98  52 199]]\n",
      "                                         precision    recall  f1-score   support\n",
      "\n",
      "              Highly_Fatal_And_Damaging       0.59      0.83      0.69       638\n",
      "              Minor_Damage_And_Injuries       0.57      0.71      0.63       490\n",
      "      Significant_Damage_And_Fatalities       0.41      0.22      0.29       338\n",
      "Significant_Damage_And_Serious_Injuries       0.62      0.37      0.47       534\n",
      "\n",
      "                               accuracy                           0.57      2000\n",
      "                              macro avg       0.55      0.53      0.52      2000\n",
      "                           weighted avg       0.57      0.57      0.55      2000\n",
      "\n"
     ]
    }
   ],
   "source": [
    "trainedsvm = svm.LinearSVC().fit(X_Train, Y_Train)\n",
    "predictionsvm = trainedsvm.predict(X_Test)\n",
    "print(confusion_matrix(Y_Test,predictionsvm))\n",
    "print(classification_report(Y_Test,predictionsvm))"
   ]
  },
  {
   "cell_type": "code",
   "execution_count": 173,
   "metadata": {},
   "outputs": [
    {
     "name": "stdout",
     "output_type": "stream",
     "text": [
      "[[528  82  24   4]\n",
      " [  5 340  51  94]\n",
      " [150  69 100  19]\n",
      " [ 56  75  53 350]]\n",
      "                                         precision    recall  f1-score   support\n",
      "\n",
      "              Highly_Fatal_And_Damaging       0.71      0.83      0.77       638\n",
      "              Minor_Damage_And_Injuries       0.60      0.69      0.64       490\n",
      "      Significant_Damage_And_Fatalities       0.44      0.30      0.35       338\n",
      "Significant_Damage_And_Serious_Injuries       0.75      0.66      0.70       534\n",
      "\n",
      "                               accuracy                           0.66      2000\n",
      "                              macro avg       0.63      0.62      0.62      2000\n",
      "                           weighted avg       0.65      0.66      0.65      2000\n",
      "\n"
     ]
    }
   ],
   "source": [
    "trainedlda = LinearDiscriminantAnalysis().fit(X_Train, Y_Train)\n",
    "predictionlda = trainedlda.predict(X_Test)\n",
    "print(confusion_matrix(Y_Test,predictionlda))\n",
    "print(classification_report(Y_Test,predictionlda))"
   ]
  },
  {
   "cell_type": "code",
   "execution_count": 174,
   "metadata": {},
   "outputs": [
    {
     "name": "stdout",
     "output_type": "stream",
     "text": [
      "[[309  76  24 229]\n",
      " [ 78 234  32 146]\n",
      " [ 82  39  79 138]\n",
      " [107  51  55 321]]\n",
      "                                         precision    recall  f1-score   support\n",
      "\n",
      "              Highly_Fatal_And_Damaging       0.54      0.48      0.51       638\n",
      "              Minor_Damage_And_Injuries       0.58      0.48      0.53       490\n",
      "      Significant_Damage_And_Fatalities       0.42      0.23      0.30       338\n",
      "Significant_Damage_And_Serious_Injuries       0.38      0.60      0.47       534\n",
      "\n",
      "                               accuracy                           0.47      2000\n",
      "                              macro avg       0.48      0.45      0.45      2000\n",
      "                           weighted avg       0.49      0.47      0.47      2000\n",
      "\n"
     ]
    }
   ],
   "source": [
    "trainednb = GaussianNB().fit(X_Train, Y_Train)\n",
    "predictionnb = trainednb.predict(X_Test)\n",
    "print(confusion_matrix(Y_Test,predictionnb))\n",
    "print(classification_report(Y_Test,predictionnb))"
   ]
  },
  {
   "cell_type": "code",
   "execution_count": 175,
   "metadata": {},
   "outputs": [
    {
     "name": "stdout",
     "output_type": "stream",
     "text": [
      "['Significant_Damage_And_Serious_Injuries'\n",
      " 'Significant_Damage_And_Fatalities' 'Minor_Damage_And_Injuries'\n",
      " 'Highly_Fatal_And_Damaging']\n",
      "8000\n"
     ]
    }
   ],
   "source": [
    "print(Y_Train.unique())\n",
    "print(Y_Train.shape[0])"
   ]
  },
  {
   "cell_type": "code",
   "execution_count": 176,
   "metadata": {},
   "outputs": [],
   "source": [
    "predictions_Final =trainedforest.predict(test)"
   ]
  },
  {
   "cell_type": "code",
   "execution_count": 177,
   "metadata": {},
   "outputs": [],
   "source": [
    "submission = pd.DataFrame({\n",
    "        \"Accident_ID\": df_test[\"id\"],\n",
    "        \"Severity\": predictions_Final\n",
    "    })\n",
    "submission.to_csv('E:/crash_prediction/sample_submissions2.csv', index=False)"
   ]
  },
  {
   "cell_type": "code",
   "execution_count": 178,
   "metadata": {},
   "outputs": [
    {
     "name": "stdout",
     "output_type": "stream",
     "text": [
      "[[540  67  18  13]\n",
      " [ 15 445   7  23]\n",
      " [ 33  11 288   6]\n",
      " [ 26  29   9 470]]\n",
      "                                         precision    recall  f1-score   support\n",
      "\n",
      "              Highly_Fatal_And_Damaging       0.88      0.85      0.86       638\n",
      "              Minor_Damage_And_Injuries       0.81      0.91      0.85       490\n",
      "      Significant_Damage_And_Fatalities       0.89      0.85      0.87       338\n",
      "Significant_Damage_And_Serious_Injuries       0.92      0.88      0.90       534\n",
      "\n",
      "                               accuracy                           0.87      2000\n",
      "                              macro avg       0.87      0.87      0.87      2000\n",
      "                           weighted avg       0.87      0.87      0.87      2000\n",
      "\n"
     ]
    }
   ],
   "source": [
    "from sklearn.svm import SVC\n",
    "classifier = SVC(kernel = 'rbf', random_state = 10)\n",
    "classifier.fit(X_Train, Y_Train)\n",
    "y_pred = classifier.predict(X_Test)\n",
    "print(confusion_matrix(Y_Test,y_pred))\n",
    "print(classification_report(Y_Test,y_pred))"
   ]
  },
  {
   "cell_type": "code",
   "execution_count": 179,
   "metadata": {},
   "outputs": [],
   "source": [
    "#Grid search for best model and parameters\n",
    "#from sklearn.model_selection import GridSearchCV\n",
    "#parameters = [{'C': [1, 10, 100, 1000], 'kernel': ['linear']},\n",
    " #             {'C': [1, 10, 100, 1000], 'kernel': ['rbf'],\n",
    "  #             'gamma': [0.1, 0.2, 0.3, 0.4, 0.5, 0.6, 0.7, 0.8, 0.9]}]\n",
    "#grid_search = GridSearchCV(estimator = classifier,\n",
    " #                          param_grid = parameters,\n",
    "  #                         scoring = 'accuracy',\n",
    "   #                        cv = 10,)\n",
    "#grid_search.fit(X_Train, Y_Train)\n",
    "#best_accuracy = grid_search.best_score_\n",
    "#best_parameters = grid_search.best_params_\n",
    "#here is the best accuracy\n",
    "#best_accuracy\n",
    "#best_parameters"
   ]
  },
  {
   "cell_type": "code",
   "execution_count": 180,
   "metadata": {},
   "outputs": [],
   "source": [
    "# Fitting Kernel SVM to the Training set with best parameters\n",
    "from sklearn.svm import SVC\n",
    "classifier = SVC(kernel = 'rbf', random_state = 0, gamma = 0.9)\n",
    "classifier.fit(X_Train, Y_Train)\n",
    "\n",
    "#Predicting the Test Set\n",
    "y_pred = classifier.predict(X_Test)"
   ]
  },
  {
   "cell_type": "code",
   "execution_count": 181,
   "metadata": {},
   "outputs": [
    {
     "data": {
      "text/plain": [
       "<matplotlib.axes._subplots.AxesSubplot at 0x1d042655d08>"
      ]
     },
     "execution_count": 181,
     "metadata": {},
     "output_type": "execute_result"
    },
    {
     "data": {
      "image/png": "[encoded data removed]",
      "text/plain": [
       "<Figure size 432x288 with 2 Axes>"
      ]
     },
     "metadata": {
      "needs_background": "light"
     },
     "output_type": "display_data"
    }
   ],
   "source": [
    "#making confusing matrix again\n",
    "from sklearn.metrics import confusion_matrix\n",
    "cm = confusion_matrix(Y_Test, y_pred)\n",
    "sns.heatmap(cm,annot=True,fmt='2.0f')"
   ]
  },
  {
   "cell_type": "code",
   "execution_count": 182,
   "metadata": {},
   "outputs": [
    {
     "name": "stdout",
     "output_type": "stream",
     "text": [
      "[[538  55  12  33]\n",
      " [ 53 404   6  27]\n",
      " [ 51  48 230   9]\n",
      " [ 74  44   5 411]]\n",
      "                                         precision    recall  f1-score   support\n",
      "\n",
      "              Highly_Fatal_And_Damaging       0.75      0.84      0.79       638\n",
      "              Minor_Damage_And_Injuries       0.73      0.82      0.78       490\n",
      "      Significant_Damage_And_Fatalities       0.91      0.68      0.78       338\n",
      "Significant_Damage_And_Serious_Injuries       0.86      0.77      0.81       534\n",
      "\n",
      "                               accuracy                           0.79      2000\n",
      "                              macro avg       0.81      0.78      0.79      2000\n",
      "                           weighted avg       0.80      0.79      0.79      2000\n",
      "\n"
     ]
    }
   ],
   "source": [
    "# Encoding our dependent variable:Quality column\n",
    "#from sklearn.preprocessing import LabelEncoder\n",
    "#labelencoder_y = LabelEncoder()\n",
    "#y = labelencoder_y.fit_transform(y)\n",
    "#y\n",
    "print(confusion_matrix(Y_Test,y_pred))\n",
    "print(classification_report(Y_Test,y_pred))\n"
   ]
  },
  {
   "cell_type": "code",
   "execution_count": 183,
   "metadata": {},
   "outputs": [
    {
     "name": "stdout",
     "output_type": "stream",
     "text": [
      "Naive Bayes\n",
      "[[491 109  30 276]\n",
      " [330 134  66 232]\n",
      " [110  93  80 219]\n",
      " [327  73  47 383]]\n",
      "                                         precision    recall  f1-score   support\n",
      "\n",
      "              Highly_Fatal_And_Damaging       0.39      0.54      0.45       906\n",
      "              Minor_Damage_And_Injuries       0.33      0.18      0.23       762\n",
      "      Significant_Damage_And_Fatalities       0.36      0.16      0.22       502\n",
      "Significant_Damage_And_Serious_Injuries       0.35      0.46      0.39       830\n",
      "\n",
      "                               accuracy                           0.36      3000\n",
      "                              macro avg       0.36      0.33      0.32      3000\n",
      "                           weighted avg       0.36      0.36      0.34      3000\n",
      "\n",
      "SVM\n",
      "[[570  90  16 230]\n",
      " [408  96  38 220]\n",
      " [154  91   9 248]\n",
      " [405  51  25 349]]\n",
      "                                         precision    recall  f1-score   support\n",
      "\n",
      "              Highly_Fatal_And_Damaging       0.37      0.63      0.47       906\n",
      "              Minor_Damage_And_Injuries       0.29      0.13      0.18       762\n",
      "      Significant_Damage_And_Fatalities       0.10      0.02      0.03       502\n",
      "Significant_Damage_And_Serious_Injuries       0.33      0.42      0.37       830\n",
      "\n",
      "                               accuracy                           0.34      3000\n",
      "                              macro avg       0.27      0.30      0.26      3000\n",
      "                           weighted avg       0.30      0.34      0.29      3000\n",
      "\n",
      "Random Forest\n",
      "[[376 202  89 239]\n",
      " [248 210  94 210]\n",
      " [100 102 191 109]\n",
      " [273 179  98 280]]\n",
      "                                         precision    recall  f1-score   support\n",
      "\n",
      "              Highly_Fatal_And_Damaging       0.38      0.42      0.40       906\n",
      "              Minor_Damage_And_Injuries       0.30      0.28      0.29       762\n",
      "      Significant_Damage_And_Fatalities       0.40      0.38      0.39       502\n",
      "Significant_Damage_And_Serious_Injuries       0.33      0.34      0.34       830\n",
      "\n",
      "                               accuracy                           0.35      3000\n",
      "                              macro avg       0.35      0.35      0.35      3000\n",
      "                           weighted avg       0.35      0.35      0.35      3000\n",
      "\n",
      "Logistic Regression\n",
      "[[556  86  32 232]\n",
      " [393 106  50 213]\n",
      " [143  95  18 246]\n",
      " [389  58  35 348]]\n",
      "                                         precision    recall  f1-score   support\n",
      "\n",
      "              Highly_Fatal_And_Damaging       0.38      0.61      0.47       906\n",
      "              Minor_Damage_And_Injuries       0.31      0.14      0.19       762\n",
      "      Significant_Damage_And_Fatalities       0.13      0.04      0.06       502\n",
      "Significant_Damage_And_Serious_Injuries       0.33      0.42      0.37       830\n",
      "\n",
      "                               accuracy                           0.34      3000\n",
      "                              macro avg       0.29      0.30      0.27      3000\n",
      "                           weighted avg       0.31      0.34      0.30      3000\n",
      "\n"
     ]
    }
   ],
   "source": [
    "pca = PCA(n_components=2,svd_solver='full')\n",
    "X_pca = pca.fit_transform(X)\n",
    "Test_pca=pca.fit_transform(test)\n",
    "# print(pca.explained_variance_)\n",
    "\n",
    "X_reduced, X_test_reduced, Y_Train, Y_Test = train_test_split(X_pca, Y, test_size = 0.30, random_state = 101)\n",
    "\n",
    "# pca = PCA(n_components=2,svd_solver='full')\n",
    "# X_reduced = pca.fit_transform(X_Train)\n",
    "#X_reduced = TSNE(n_components=2).fit_transform(X_Train, Y_Train)\n",
    "\n",
    "trainednb = GaussianNB().fit(X_reduced, Y_Train)\n",
    "trainedsvm = svm.LinearSVC().fit(X_reduced, Y_Train)\n",
    "trainedforest = RandomForestClassifier(n_estimators=700).fit(X_reduced,Y_Train)\n",
    "trainedmodel = LogisticRegression().fit(X_reduced,Y_Train)\n",
    "\n",
    "# pca = PCA(n_components=2,svd_solver='full')\n",
    "# X_test_reduced = pca.fit_transform(X_Test)\n",
    "#X_test_reduced = TSNE(n_components=2).fit_transform(X_Test, Y_Test)\n",
    "\n",
    "print('Naive Bayes')\n",
    "predictionnb = trainednb.predict(X_test_reduced)\n",
    "print(confusion_matrix(Y_Test,predictionnb))\n",
    "print(classification_report(Y_Test,predictionnb))\n",
    "\n",
    "print('SVM')\n",
    "predictionsvm = trainedsvm.predict(X_test_reduced)\n",
    "print(confusion_matrix(Y_Test,predictionsvm))\n",
    "print(classification_report(Y_Test,predictionsvm))\n",
    "\n",
    "print('Random Forest')\n",
    "predictionforest = trainedforest.predict(X_test_reduced)\n",
    "print(confusion_matrix(Y_Test,predictionforest))\n",
    "print(classification_report(Y_Test,predictionforest))\n",
    "\n",
    "print('Logistic Regression')\n",
    "predictions =trainedmodel.predict(X_test_reduced)\n",
    "print(confusion_matrix(Y_Test,predictions))\n",
    "print(classification_report(Y_Test,predictions))"
   ]
  },
  {
   "cell_type": "code",
   "execution_count": 184,
   "metadata": {},
   "outputs": [
    {
     "name": "stdout",
     "output_type": "stream",
     "text": [
      "Naive Bayes\n",
      "[[491 109  30 276]\n",
      " [330 134  66 232]\n",
      " [110  93  80 219]\n",
      " [327  73  47 383]]\n",
      "                                         precision    recall  f1-score   support\n",
      "\n",
      "              Highly_Fatal_And_Damaging       0.39      0.54      0.45       906\n",
      "              Minor_Damage_And_Injuries       0.33      0.18      0.23       762\n",
      "      Significant_Damage_And_Fatalities       0.36      0.16      0.22       502\n",
      "Significant_Damage_And_Serious_Injuries       0.35      0.46      0.39       830\n",
      "\n",
      "                               accuracy                           0.36      3000\n",
      "                              macro avg       0.36      0.33      0.32      3000\n",
      "                           weighted avg       0.36      0.36      0.34      3000\n",
      "\n",
      "SVM\n",
      "[[570  90  16 230]\n",
      " [408  96  38 220]\n",
      " [154  91   9 248]\n",
      " [405  51  25 349]]\n",
      "                                         precision    recall  f1-score   support\n",
      "\n",
      "              Highly_Fatal_And_Damaging       0.37      0.63      0.47       906\n",
      "              Minor_Damage_And_Injuries       0.29      0.13      0.18       762\n",
      "      Significant_Damage_And_Fatalities       0.10      0.02      0.03       502\n",
      "Significant_Damage_And_Serious_Injuries       0.33      0.42      0.37       830\n",
      "\n",
      "                               accuracy                           0.34      3000\n",
      "                              macro avg       0.27      0.30      0.26      3000\n",
      "                           weighted avg       0.30      0.34      0.29      3000\n",
      "\n",
      "Random Forest\n",
      "[[365 214  88 239]\n",
      " [254 209  94 205]\n",
      " [ 97 107 188 110]\n",
      " [278 177  97 278]]\n",
      "                                         precision    recall  f1-score   support\n",
      "\n",
      "              Highly_Fatal_And_Damaging       0.37      0.40      0.38       906\n",
      "              Minor_Damage_And_Injuries       0.30      0.27      0.28       762\n",
      "      Significant_Damage_And_Fatalities       0.40      0.37      0.39       502\n",
      "Significant_Damage_And_Serious_Injuries       0.33      0.33      0.33       830\n",
      "\n",
      "                               accuracy                           0.35      3000\n",
      "                              macro avg       0.35      0.35      0.35      3000\n",
      "                           weighted avg       0.35      0.35      0.35      3000\n",
      "\n",
      "Logistic Regression\n",
      "[[556  86  32 232]\n",
      " [393 106  50 213]\n",
      " [143  95  18 246]\n",
      " [389  58  35 348]]\n",
      "                                         precision    recall  f1-score   support\n",
      "\n",
      "              Highly_Fatal_And_Damaging       0.38      0.61      0.47       906\n",
      "              Minor_Damage_And_Injuries       0.31      0.14      0.19       762\n",
      "      Significant_Damage_And_Fatalities       0.13      0.04      0.06       502\n",
      "Significant_Damage_And_Serious_Injuries       0.33      0.42      0.37       830\n",
      "\n",
      "                               accuracy                           0.34      3000\n",
      "                              macro avg       0.29      0.30      0.27      3000\n",
      "                           weighted avg       0.31      0.34      0.30      3000\n",
      "\n"
     ]
    }
   ],
   "source": [
    "reduced_data = X_reduced\n",
    "\n",
    "print('Naive Bayes')\n",
    "trainednb = GaussianNB().fit(reduced_data, Y_Train)\n",
    "predictionnb = trainednb.predict(X_test_reduced)\n",
    "print(confusion_matrix(Y_Test,predictionnb))\n",
    "print(classification_report(Y_Test,predictionnb))\n",
    "\n",
    "print('SVM')\n",
    "trainedsvm = svm.LinearSVC().fit(reduced_data, Y_Train)\n",
    "predictionsvm = trainedsvm.predict(X_test_reduced)\n",
    "print(confusion_matrix(Y_Test,predictionsvm))\n",
    "print(classification_report(Y_Test,predictionsvm))\n",
    "\n",
    "print('Random Forest')\n",
    "trainedforest = RandomForestClassifier(n_estimators=700).fit(reduced_data,Y_Train)\n",
    "predictionforest = trainedforest.predict(X_test_reduced)\n",
    "print(confusion_matrix(Y_Test,predictionforest))\n",
    "print(classification_report(Y_Test,predictionforest))\n",
    "\n",
    "print('Logistic Regression')\n",
    "trainedmodel = LogisticRegression().fit(reduced_data,Y_Train)\n",
    "predictions =trainedmodel.predict(X_test_reduced)\n",
    "print(confusion_matrix(Y_Test,predictions))\n",
    "print(classification_report(Y_Test,predictions))"
   ]
  },
  {
   "cell_type": "code",
   "execution_count": 185,
   "metadata": {},
   "outputs": [
    {
     "name": "stdout",
     "output_type": "stream",
     "text": [
      "Original number of features: 10\n",
      "Reduced number of features: 2\n",
      "[0.76061508 0.16451651]\n",
      "Naive Bayes\n",
      "[[726 121  47  12]\n",
      " [  1 605  14 142]\n",
      " [175  28 271  28]\n",
      " [129  18  69 614]]\n",
      "                                         precision    recall  f1-score   support\n",
      "\n",
      "              Highly_Fatal_And_Damaging       0.70      0.80      0.75       906\n",
      "              Minor_Damage_And_Injuries       0.78      0.79      0.79       762\n",
      "      Significant_Damage_And_Fatalities       0.68      0.54      0.60       502\n",
      "Significant_Damage_And_Serious_Injuries       0.77      0.74      0.76       830\n",
      "\n",
      "                               accuracy                           0.74      3000\n",
      "                              macro avg       0.73      0.72      0.72      3000\n",
      "                           weighted avg       0.74      0.74      0.74      3000\n",
      "\n",
      "SVM\n",
      "[[746 132  28   0]\n",
      " [ 26 596  96  44]\n",
      " [211 136 155   0]\n",
      " [586 140  87  17]]\n",
      "                                         precision    recall  f1-score   support\n",
      "\n",
      "              Highly_Fatal_And_Damaging       0.48      0.82      0.60       906\n",
      "              Minor_Damage_And_Injuries       0.59      0.78      0.67       762\n",
      "      Significant_Damage_And_Fatalities       0.42      0.31      0.36       502\n",
      "Significant_Damage_And_Serious_Injuries       0.28      0.02      0.04       830\n",
      "\n",
      "                               accuracy                           0.50      3000\n",
      "                              macro avg       0.44      0.48      0.42      3000\n",
      "                           weighted avg       0.44      0.50      0.42      3000\n",
      "\n"
     ]
    }
   ],
   "source": [
    "# Load libraries\n",
    "from sklearn import datasets\n",
    "from sklearn.discriminant_analysis import LinearDiscriminantAnalysis\n",
    "\n",
    "# Create an LDA that will reduce the data down to 1 feature\n",
    "lda = LinearDiscriminantAnalysis(n_components=2)\n",
    "\n",
    "# run an LDA and use it to transform the features\n",
    "X_lda = lda.fit(X, Y).transform(X)\n",
    "\n",
    "# Print the number of features\n",
    "print('Original number of features:', X.shape[1])\n",
    "print('Reduced number of features:', X_lda.shape[1])\n",
    "\n",
    "## View the ratio of explained variance\n",
    "print(lda.explained_variance_ratio_)\n",
    "\n",
    "X_reduced, X_test_reduced, Y_Train, Y_Test = train_test_split(X_lda, Y, test_size = 0.30, random_state = 101)\n",
    "\n",
    "trainednb = GaussianNB().fit(X_reduced, Y_Train)\n",
    "trainedsvm = svm.LinearSVC().fit(X_reduced, Y_Train)\n",
    "\n",
    "print('Naive Bayes')\n",
    "predictionnb = trainednb.predict(X_test_reduced)\n",
    "print(confusion_matrix(Y_Test,predictionnb))\n",
    "print(classification_report(Y_Test,predictionnb))\n",
    "\n",
    "print('SVM')\n",
    "predictionsvm = trainedsvm.predict(X_test_reduced)\n",
    "print(confusion_matrix(Y_Test,predictionsvm))\n",
    "print(classification_report(Y_Test,predictionsvm))"
   ]
  },
  {
   "cell_type": "code",
   "execution_count": 187,
   "metadata": {},
   "outputs": [
    {
     "data": {
      "text/plain": [
       "array([2, 0, 0, ..., 0, 0, 0])"
      ]
     },
     "execution_count": 187,
     "metadata": {},
     "output_type": "execute_result"
    }
   ],
   "source": [
    "# Encoding our dependent variable:Quality column\n",
    "from sklearn.preprocessing import LabelEncoder\n",
    "labelencoder_y = LabelEncoder()\n",
    "y = labelencoder_y.fit_transform(Y_Train)\n",
    "y"
   ]
  },
  {
   "cell_type": "code",
   "execution_count": 188,
   "metadata": {},
   "outputs": [
    {
     "name": "stdout",
     "output_type": "stream",
     "text": [
      "<class 'pandas.core.series.Series'>\n"
     ]
    }
   ],
   "source": [
    "print(type(Y_Train))"
   ]
  },
  {
   "cell_type": "code",
   "execution_count": null,
   "metadata": {
    "scrolled": true
   },
   "outputs": [],
   "source": [
    "from tensorflow.keras.models import Sequential\n",
    "from tensorflow.keras.layers import Dense, Activation, Dropout\n",
    "from tensorflow.keras.utils import to_categorical\n",
    "from tensorflow.keras.layers import Dense, Dropout, BatchNormalization, Activation\n",
    "\n",
    "#Y_Test = to_categorical(Y_Test)\n",
    "\n",
    "input_dim = X_Train.shape[1]\n",
    "\n",
    "\n",
    "# Here's a Deep Dumb MLP (DDMLP)\n",
    "model = Sequential()\n",
    "model.add(Dense(512, input_dim=input_dim))\n",
    "model.add(BatchNormalization())\n",
    "model.add(Activation('relu'))\n",
    "model.add(Dropout(0.15))\n",
    "model.add(Dense(256))\n",
    "model.add(BatchNormalization())\n",
    "model.add(Activation('relu'))\n",
    "model.add(Dropout(0.15))\n",
    "model.add(Dense(4))\n",
    "model.add(BatchNormalization())\n",
    "model.add(Activation('softmax'))\n",
    "\n",
    "# we'll use categorical xent for the loss, and RMSprop as the optimizer\n",
    "model.compile(loss='categorical_crossentropy', optimizer='rmsprop')\n",
    "\n",
    "print(\"Training...\")\n",
    "model.fit(X_Train, Y_Train, nb_epoch=50, batch_size=16, validation_split=0.1, verbose=80)\n",
    "\n",
    "preds = model.predict_classes(X_Test, verbose=0)"
   ]
  },
  {
   "cell_type": "code",
   "execution_count": null,
   "metadata": {},
   "outputs": [],
   "source": []
  }
 ],
 "metadata": {
  "kernelspec": {
   "display_name": "Python 3",
   "language": "python",
   "name": "python3"
  },
  "language_info": {
   "codemirror_mode": {
    "name": "ipython",
    "version": 3
   },
   "file_extension": ".py",
   "mimetype": "text/x-python",
   "name": "python",
   "nbconvert_exporter": "python",
   "pygments_lexer": "ipython3",
   "version": "3.7.4"
  }
 },
 "nbformat": 4,
 "nbformat_minor": 2
}
